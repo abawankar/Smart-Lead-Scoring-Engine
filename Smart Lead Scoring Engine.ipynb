{
 "cells": [
  {
   "cell_type": "markdown",
   "id": "a70b29a9",
   "metadata": {},
   "source": [
    "# Smart Lead Scoring Engine\n",
    "\n",
    "__Goal:__ \n",
    "\n",
    "To predict the propensity to buy a product based on the user's past activities and user level information.\n",
    "Predicting 0 or 1 indicating if the user will buy the product in next 3 months or not"
   ]
  },
  {
   "cell_type": "markdown",
   "id": "debd19e8",
   "metadata": {},
   "source": [
    "## 1. Setup Environment\n",
    "\n",
    "The goal of this section is to:\n",
    "- Import all the packages\n",
    "- Set the options for data visualizations"
   ]
  },
  {
   "cell_type": "code",
   "execution_count": 1,
   "id": "b308ef28",
   "metadata": {},
   "outputs": [],
   "source": [
    "# Data Manipulation\n",
    "import numpy as np \n",
    "import pandas as pd \n",
    "\n",
    "# Data Visualization\n",
    "import seaborn as sns \n",
    "import matplotlib.pyplot as plt\n",
    "\n",
    "# to divide train and test set\n",
    "from sklearn.model_selection import train_test_split\n",
    "\n",
    "# to do math\n",
    "import math  \n",
    "\n",
    "#Handling Class Imbalance\n",
    "from   imblearn.over_sampling import RandomOverSampler\n",
    "\n",
    "# to build the models\n",
    "from xgboost import XGBClassifier\n",
    "from sklearn.linear_model import LogisticRegression\n",
    "from sklearn.naive_bayes import GaussianNB\n",
    "from sklearn.ensemble import RandomForestClassifier, ExtraTreesClassifier, GradientBoostingClassifier\n",
    "\n",
    "# to evaluate the models\n",
    "from   sklearn.model_selection import train_test_split, GridSearchCV\n",
    "from   sklearn.metrics import confusion_matrix , classification_report, accuracy_score, roc_auc_score, plot_roc_curve, precision_recall_curve, plot_precision_recall_curve\n",
    "\n",
    "# Time\n",
    "import time\n",
    "import datetime\n",
    "\n",
    "import warnings\n",
    "# Set Options\n",
    "pd.set_option('display.max_rows', 800)\n",
    "pd.set_option('display.max_columns', 500)\n",
    "%matplotlib inline\n",
    "warnings.filterwarnings(\"ignore\")"
   ]
  },
  {
   "cell_type": "markdown",
   "id": "413c20a8",
   "metadata": {},
   "source": [
    "## 2. Data Overview\n",
    "\n",
    "Purpose is to:\n",
    "\n",
    "1. Load the datasets \n",
    "2. Explore the features\n",
    "\n",
    "The data is broken into two files train set and test set\n",
    "\n",
    "Load the train and test data using pd.read_csv()"
   ]
  },
  {
   "cell_type": "code",
   "execution_count": 2,
   "id": "97445274",
   "metadata": {},
   "outputs": [
    {
     "name": "stdout",
     "output_type": "stream",
     "text": [
      "Wall time: 75 ms\n"
     ]
    }
   ],
   "source": [
    "%%time\n",
    "# Load Data\n",
    "df_train   = pd.read_csv('train.csv') #train dataset\n",
    "test_sub = pd.read_csv('test.csv') #test data set for submission"
   ]
  },
  {
   "cell_type": "code",
   "execution_count": 3,
   "id": "2c07d426",
   "metadata": {},
   "outputs": [
    {
     "name": "stdout",
     "output_type": "stream",
     "text": [
      "\n",
      "\u001b[1mShape of Train Dataframe \n",
      "\u001b[0m\n",
      ": Rows- 39161, Columns- 19\n",
      "\n",
      "\u001b[1m Head of Train Data\u001b[0m\n"
     ]
    },
    {
     "data": {
      "text/html": [
       "<div>\n",
       "<style scoped>\n",
       "    .dataframe tbody tr th:only-of-type {\n",
       "        vertical-align: middle;\n",
       "    }\n",
       "\n",
       "    .dataframe tbody tr th {\n",
       "        vertical-align: top;\n",
       "    }\n",
       "\n",
       "    .dataframe thead th {\n",
       "        text-align: right;\n",
       "    }\n",
       "</style>\n",
       "<table border=\"1\" class=\"dataframe\">\n",
       "  <thead>\n",
       "    <tr style=\"text-align: right;\">\n",
       "      <th></th>\n",
       "      <th>id</th>\n",
       "      <th>created_at</th>\n",
       "      <th>campaign_var_1</th>\n",
       "      <th>campaign_var_2</th>\n",
       "      <th>products_purchased</th>\n",
       "      <th>signup_date</th>\n",
       "      <th>user_activity_var_1</th>\n",
       "      <th>user_activity_var_2</th>\n",
       "      <th>user_activity_var_3</th>\n",
       "      <th>user_activity_var_4</th>\n",
       "      <th>user_activity_var_5</th>\n",
       "      <th>user_activity_var_6</th>\n",
       "      <th>user_activity_var_7</th>\n",
       "      <th>user_activity_var_8</th>\n",
       "      <th>user_activity_var_9</th>\n",
       "      <th>user_activity_var_10</th>\n",
       "      <th>user_activity_var_11</th>\n",
       "      <th>user_activity_var_12</th>\n",
       "      <th>buy</th>\n",
       "    </tr>\n",
       "  </thead>\n",
       "  <tbody>\n",
       "    <tr>\n",
       "      <th>0</th>\n",
       "      <td>1</td>\n",
       "      <td>2021-01-01</td>\n",
       "      <td>1</td>\n",
       "      <td>2</td>\n",
       "      <td>2.0</td>\n",
       "      <td>2020-09-24</td>\n",
       "      <td>0</td>\n",
       "      <td>0</td>\n",
       "      <td>0</td>\n",
       "      <td>0</td>\n",
       "      <td>0</td>\n",
       "      <td>0</td>\n",
       "      <td>1</td>\n",
       "      <td>1</td>\n",
       "      <td>0</td>\n",
       "      <td>0</td>\n",
       "      <td>0</td>\n",
       "      <td>0</td>\n",
       "      <td>0</td>\n",
       "    </tr>\n",
       "    <tr>\n",
       "      <th>1</th>\n",
       "      <td>2</td>\n",
       "      <td>2021-01-01</td>\n",
       "      <td>2</td>\n",
       "      <td>1</td>\n",
       "      <td>2.0</td>\n",
       "      <td>2020-09-19</td>\n",
       "      <td>1</td>\n",
       "      <td>0</td>\n",
       "      <td>1</td>\n",
       "      <td>0</td>\n",
       "      <td>0</td>\n",
       "      <td>0</td>\n",
       "      <td>1</td>\n",
       "      <td>0</td>\n",
       "      <td>0</td>\n",
       "      <td>0</td>\n",
       "      <td>0</td>\n",
       "      <td>0</td>\n",
       "      <td>0</td>\n",
       "    </tr>\n",
       "    <tr>\n",
       "      <th>2</th>\n",
       "      <td>3</td>\n",
       "      <td>2021-01-01</td>\n",
       "      <td>9</td>\n",
       "      <td>3</td>\n",
       "      <td>3.0</td>\n",
       "      <td>2021-08-11</td>\n",
       "      <td>1</td>\n",
       "      <td>0</td>\n",
       "      <td>0</td>\n",
       "      <td>0</td>\n",
       "      <td>0</td>\n",
       "      <td>0</td>\n",
       "      <td>0</td>\n",
       "      <td>0</td>\n",
       "      <td>0</td>\n",
       "      <td>0</td>\n",
       "      <td>0</td>\n",
       "      <td>0</td>\n",
       "      <td>0</td>\n",
       "    </tr>\n",
       "    <tr>\n",
       "      <th>3</th>\n",
       "      <td>4</td>\n",
       "      <td>2021-01-01</td>\n",
       "      <td>6</td>\n",
       "      <td>7</td>\n",
       "      <td>2.0</td>\n",
       "      <td>2017-10-04</td>\n",
       "      <td>0</td>\n",
       "      <td>0</td>\n",
       "      <td>0</td>\n",
       "      <td>0</td>\n",
       "      <td>0</td>\n",
       "      <td>0</td>\n",
       "      <td>0</td>\n",
       "      <td>0</td>\n",
       "      <td>0</td>\n",
       "      <td>0</td>\n",
       "      <td>0</td>\n",
       "      <td>0</td>\n",
       "      <td>0</td>\n",
       "    </tr>\n",
       "    <tr>\n",
       "      <th>4</th>\n",
       "      <td>5</td>\n",
       "      <td>2021-01-01</td>\n",
       "      <td>4</td>\n",
       "      <td>6</td>\n",
       "      <td>NaN</td>\n",
       "      <td>2020-06-08</td>\n",
       "      <td>0</td>\n",
       "      <td>0</td>\n",
       "      <td>0</td>\n",
       "      <td>0</td>\n",
       "      <td>0</td>\n",
       "      <td>0</td>\n",
       "      <td>1</td>\n",
       "      <td>0</td>\n",
       "      <td>0</td>\n",
       "      <td>0</td>\n",
       "      <td>1</td>\n",
       "      <td>0</td>\n",
       "      <td>0</td>\n",
       "    </tr>\n",
       "  </tbody>\n",
       "</table>\n",
       "</div>"
      ],
      "text/plain": [
       "   id  created_at  campaign_var_1  campaign_var_2  products_purchased  \\\n",
       "0   1  2021-01-01               1               2                 2.0   \n",
       "1   2  2021-01-01               2               1                 2.0   \n",
       "2   3  2021-01-01               9               3                 3.0   \n",
       "3   4  2021-01-01               6               7                 2.0   \n",
       "4   5  2021-01-01               4               6                 NaN   \n",
       "\n",
       "  signup_date  user_activity_var_1  user_activity_var_2  user_activity_var_3  \\\n",
       "0  2020-09-24                    0                    0                    0   \n",
       "1  2020-09-19                    1                    0                    1   \n",
       "2  2021-08-11                    1                    0                    0   \n",
       "3  2017-10-04                    0                    0                    0   \n",
       "4  2020-06-08                    0                    0                    0   \n",
       "\n",
       "   user_activity_var_4  user_activity_var_5  user_activity_var_6  \\\n",
       "0                    0                    0                    0   \n",
       "1                    0                    0                    0   \n",
       "2                    0                    0                    0   \n",
       "3                    0                    0                    0   \n",
       "4                    0                    0                    0   \n",
       "\n",
       "   user_activity_var_7  user_activity_var_8  user_activity_var_9  \\\n",
       "0                    1                    1                    0   \n",
       "1                    1                    0                    0   \n",
       "2                    0                    0                    0   \n",
       "3                    0                    0                    0   \n",
       "4                    1                    0                    0   \n",
       "\n",
       "   user_activity_var_10  user_activity_var_11  user_activity_var_12  buy  \n",
       "0                     0                     0                     0    0  \n",
       "1                     0                     0                     0    0  \n",
       "2                     0                     0                     0    0  \n",
       "3                     0                     0                     0    0  \n",
       "4                     0                     1                     0    0  "
      ]
     },
     "metadata": {},
     "output_type": "display_data"
    },
    {
     "name": "stdout",
     "output_type": "stream",
     "text": [
      "\n",
      "\u001b[1m Tail of Train Data\u001b[0m\n"
     ]
    },
    {
     "data": {
      "text/html": [
       "<div>\n",
       "<style scoped>\n",
       "    .dataframe tbody tr th:only-of-type {\n",
       "        vertical-align: middle;\n",
       "    }\n",
       "\n",
       "    .dataframe tbody tr th {\n",
       "        vertical-align: top;\n",
       "    }\n",
       "\n",
       "    .dataframe thead th {\n",
       "        text-align: right;\n",
       "    }\n",
       "</style>\n",
       "<table border=\"1\" class=\"dataframe\">\n",
       "  <thead>\n",
       "    <tr style=\"text-align: right;\">\n",
       "      <th></th>\n",
       "      <th>id</th>\n",
       "      <th>created_at</th>\n",
       "      <th>campaign_var_1</th>\n",
       "      <th>campaign_var_2</th>\n",
       "      <th>products_purchased</th>\n",
       "      <th>signup_date</th>\n",
       "      <th>user_activity_var_1</th>\n",
       "      <th>user_activity_var_2</th>\n",
       "      <th>user_activity_var_3</th>\n",
       "      <th>user_activity_var_4</th>\n",
       "      <th>user_activity_var_5</th>\n",
       "      <th>user_activity_var_6</th>\n",
       "      <th>user_activity_var_7</th>\n",
       "      <th>user_activity_var_8</th>\n",
       "      <th>user_activity_var_9</th>\n",
       "      <th>user_activity_var_10</th>\n",
       "      <th>user_activity_var_11</th>\n",
       "      <th>user_activity_var_12</th>\n",
       "      <th>buy</th>\n",
       "    </tr>\n",
       "  </thead>\n",
       "  <tbody>\n",
       "    <tr>\n",
       "      <th>39156</th>\n",
       "      <td>39157</td>\n",
       "      <td>2021-12-31</td>\n",
       "      <td>11</td>\n",
       "      <td>11</td>\n",
       "      <td>2.0</td>\n",
       "      <td>2017-10-19</td>\n",
       "      <td>1</td>\n",
       "      <td>0</td>\n",
       "      <td>0</td>\n",
       "      <td>0</td>\n",
       "      <td>1</td>\n",
       "      <td>1</td>\n",
       "      <td>1</td>\n",
       "      <td>0</td>\n",
       "      <td>0</td>\n",
       "      <td>0</td>\n",
       "      <td>0</td>\n",
       "      <td>0</td>\n",
       "      <td>0</td>\n",
       "    </tr>\n",
       "    <tr>\n",
       "      <th>39157</th>\n",
       "      <td>39158</td>\n",
       "      <td>2021-12-31</td>\n",
       "      <td>3</td>\n",
       "      <td>9</td>\n",
       "      <td>3.0</td>\n",
       "      <td>NaN</td>\n",
       "      <td>0</td>\n",
       "      <td>0</td>\n",
       "      <td>0</td>\n",
       "      <td>0</td>\n",
       "      <td>0</td>\n",
       "      <td>0</td>\n",
       "      <td>0</td>\n",
       "      <td>0</td>\n",
       "      <td>0</td>\n",
       "      <td>0</td>\n",
       "      <td>0</td>\n",
       "      <td>0</td>\n",
       "      <td>0</td>\n",
       "    </tr>\n",
       "    <tr>\n",
       "      <th>39158</th>\n",
       "      <td>39159</td>\n",
       "      <td>2021-12-31</td>\n",
       "      <td>8</td>\n",
       "      <td>7</td>\n",
       "      <td>2.0</td>\n",
       "      <td>NaN</td>\n",
       "      <td>1</td>\n",
       "      <td>0</td>\n",
       "      <td>0</td>\n",
       "      <td>0</td>\n",
       "      <td>1</td>\n",
       "      <td>0</td>\n",
       "      <td>1</td>\n",
       "      <td>0</td>\n",
       "      <td>0</td>\n",
       "      <td>0</td>\n",
       "      <td>0</td>\n",
       "      <td>0</td>\n",
       "      <td>0</td>\n",
       "    </tr>\n",
       "    <tr>\n",
       "      <th>39159</th>\n",
       "      <td>39160</td>\n",
       "      <td>2021-12-31</td>\n",
       "      <td>7</td>\n",
       "      <td>12</td>\n",
       "      <td>2.0</td>\n",
       "      <td>NaN</td>\n",
       "      <td>0</td>\n",
       "      <td>0</td>\n",
       "      <td>0</td>\n",
       "      <td>0</td>\n",
       "      <td>0</td>\n",
       "      <td>1</td>\n",
       "      <td>0</td>\n",
       "      <td>0</td>\n",
       "      <td>0</td>\n",
       "      <td>0</td>\n",
       "      <td>1</td>\n",
       "      <td>0</td>\n",
       "      <td>0</td>\n",
       "    </tr>\n",
       "    <tr>\n",
       "      <th>39160</th>\n",
       "      <td>39161</td>\n",
       "      <td>2021-12-31</td>\n",
       "      <td>2</td>\n",
       "      <td>5</td>\n",
       "      <td>NaN</td>\n",
       "      <td>2019-08-11</td>\n",
       "      <td>1</td>\n",
       "      <td>0</td>\n",
       "      <td>0</td>\n",
       "      <td>0</td>\n",
       "      <td>0</td>\n",
       "      <td>0</td>\n",
       "      <td>1</td>\n",
       "      <td>0</td>\n",
       "      <td>0</td>\n",
       "      <td>0</td>\n",
       "      <td>0</td>\n",
       "      <td>0</td>\n",
       "      <td>0</td>\n",
       "    </tr>\n",
       "  </tbody>\n",
       "</table>\n",
       "</div>"
      ],
      "text/plain": [
       "          id  created_at  campaign_var_1  campaign_var_2  products_purchased  \\\n",
       "39156  39157  2021-12-31              11              11                 2.0   \n",
       "39157  39158  2021-12-31               3               9                 3.0   \n",
       "39158  39159  2021-12-31               8               7                 2.0   \n",
       "39159  39160  2021-12-31               7              12                 2.0   \n",
       "39160  39161  2021-12-31               2               5                 NaN   \n",
       "\n",
       "      signup_date  user_activity_var_1  user_activity_var_2  \\\n",
       "39156  2017-10-19                    1                    0   \n",
       "39157         NaN                    0                    0   \n",
       "39158         NaN                    1                    0   \n",
       "39159         NaN                    0                    0   \n",
       "39160  2019-08-11                    1                    0   \n",
       "\n",
       "       user_activity_var_3  user_activity_var_4  user_activity_var_5  \\\n",
       "39156                    0                    0                    1   \n",
       "39157                    0                    0                    0   \n",
       "39158                    0                    0                    1   \n",
       "39159                    0                    0                    0   \n",
       "39160                    0                    0                    0   \n",
       "\n",
       "       user_activity_var_6  user_activity_var_7  user_activity_var_8  \\\n",
       "39156                    1                    1                    0   \n",
       "39157                    0                    0                    0   \n",
       "39158                    0                    1                    0   \n",
       "39159                    1                    0                    0   \n",
       "39160                    0                    1                    0   \n",
       "\n",
       "       user_activity_var_9  user_activity_var_10  user_activity_var_11  \\\n",
       "39156                    0                     0                     0   \n",
       "39157                    0                     0                     0   \n",
       "39158                    0                     0                     0   \n",
       "39159                    0                     0                     1   \n",
       "39160                    0                     0                     0   \n",
       "\n",
       "       user_activity_var_12  buy  \n",
       "39156                     0    0  \n",
       "39157                     0    0  \n",
       "39158                     0    0  \n",
       "39159                     0    0  \n",
       "39160                     0    0  "
      ]
     },
     "metadata": {},
     "output_type": "display_data"
    },
    {
     "name": "stdout",
     "output_type": "stream",
     "text": [
      "\n",
      "\u001b[1mShape of Test Dataframe \n",
      "\u001b[0m\n",
      ": Rows- 13184, Columns- 18\n",
      "\n",
      "\u001b[1m Head of Train Data\u001b[0m\n"
     ]
    },
    {
     "data": {
      "text/html": [
       "<div>\n",
       "<style scoped>\n",
       "    .dataframe tbody tr th:only-of-type {\n",
       "        vertical-align: middle;\n",
       "    }\n",
       "\n",
       "    .dataframe tbody tr th {\n",
       "        vertical-align: top;\n",
       "    }\n",
       "\n",
       "    .dataframe thead th {\n",
       "        text-align: right;\n",
       "    }\n",
       "</style>\n",
       "<table border=\"1\" class=\"dataframe\">\n",
       "  <thead>\n",
       "    <tr style=\"text-align: right;\">\n",
       "      <th></th>\n",
       "      <th>id</th>\n",
       "      <th>created_at</th>\n",
       "      <th>campaign_var_1</th>\n",
       "      <th>campaign_var_2</th>\n",
       "      <th>products_purchased</th>\n",
       "      <th>signup_date</th>\n",
       "      <th>user_activity_var_1</th>\n",
       "      <th>user_activity_var_2</th>\n",
       "      <th>user_activity_var_3</th>\n",
       "      <th>user_activity_var_4</th>\n",
       "      <th>user_activity_var_5</th>\n",
       "      <th>user_activity_var_6</th>\n",
       "      <th>user_activity_var_7</th>\n",
       "      <th>user_activity_var_8</th>\n",
       "      <th>user_activity_var_9</th>\n",
       "      <th>user_activity_var_10</th>\n",
       "      <th>user_activity_var_11</th>\n",
       "      <th>user_activity_var_12</th>\n",
       "    </tr>\n",
       "  </thead>\n",
       "  <tbody>\n",
       "    <tr>\n",
       "      <th>0</th>\n",
       "      <td>39162</td>\n",
       "      <td>2022-01-01</td>\n",
       "      <td>2</td>\n",
       "      <td>2</td>\n",
       "      <td>NaN</td>\n",
       "      <td>2021-08-17</td>\n",
       "      <td>1</td>\n",
       "      <td>1</td>\n",
       "      <td>0</td>\n",
       "      <td>0</td>\n",
       "      <td>0</td>\n",
       "      <td>1</td>\n",
       "      <td>0</td>\n",
       "      <td>0</td>\n",
       "      <td>0</td>\n",
       "      <td>0</td>\n",
       "      <td>1</td>\n",
       "      <td>0</td>\n",
       "    </tr>\n",
       "    <tr>\n",
       "      <th>1</th>\n",
       "      <td>39163</td>\n",
       "      <td>2022-01-01</td>\n",
       "      <td>4</td>\n",
       "      <td>7</td>\n",
       "      <td>3.0</td>\n",
       "      <td>2020-05-21</td>\n",
       "      <td>1</td>\n",
       "      <td>0</td>\n",
       "      <td>0</td>\n",
       "      <td>0</td>\n",
       "      <td>0</td>\n",
       "      <td>0</td>\n",
       "      <td>0</td>\n",
       "      <td>1</td>\n",
       "      <td>0</td>\n",
       "      <td>0</td>\n",
       "      <td>0</td>\n",
       "      <td>0</td>\n",
       "    </tr>\n",
       "    <tr>\n",
       "      <th>2</th>\n",
       "      <td>39164</td>\n",
       "      <td>2022-01-01</td>\n",
       "      <td>8</td>\n",
       "      <td>7</td>\n",
       "      <td>NaN</td>\n",
       "      <td>NaN</td>\n",
       "      <td>0</td>\n",
       "      <td>0</td>\n",
       "      <td>0</td>\n",
       "      <td>0</td>\n",
       "      <td>1</td>\n",
       "      <td>1</td>\n",
       "      <td>0</td>\n",
       "      <td>0</td>\n",
       "      <td>0</td>\n",
       "      <td>0</td>\n",
       "      <td>0</td>\n",
       "      <td>0</td>\n",
       "    </tr>\n",
       "    <tr>\n",
       "      <th>3</th>\n",
       "      <td>39165</td>\n",
       "      <td>2022-01-01</td>\n",
       "      <td>9</td>\n",
       "      <td>8</td>\n",
       "      <td>2.0</td>\n",
       "      <td>2020-06-22</td>\n",
       "      <td>0</td>\n",
       "      <td>0</td>\n",
       "      <td>0</td>\n",
       "      <td>0</td>\n",
       "      <td>1</td>\n",
       "      <td>1</td>\n",
       "      <td>1</td>\n",
       "      <td>0</td>\n",
       "      <td>0</td>\n",
       "      <td>0</td>\n",
       "      <td>2</td>\n",
       "      <td>0</td>\n",
       "    </tr>\n",
       "    <tr>\n",
       "      <th>4</th>\n",
       "      <td>39166</td>\n",
       "      <td>2022-01-01</td>\n",
       "      <td>4</td>\n",
       "      <td>5</td>\n",
       "      <td>2.0</td>\n",
       "      <td>2021-03-10</td>\n",
       "      <td>1</td>\n",
       "      <td>0</td>\n",
       "      <td>0</td>\n",
       "      <td>0</td>\n",
       "      <td>0</td>\n",
       "      <td>0</td>\n",
       "      <td>0</td>\n",
       "      <td>0</td>\n",
       "      <td>0</td>\n",
       "      <td>0</td>\n",
       "      <td>0</td>\n",
       "      <td>0</td>\n",
       "    </tr>\n",
       "  </tbody>\n",
       "</table>\n",
       "</div>"
      ],
      "text/plain": [
       "      id  created_at  campaign_var_1  campaign_var_2  products_purchased  \\\n",
       "0  39162  2022-01-01               2               2                 NaN   \n",
       "1  39163  2022-01-01               4               7                 3.0   \n",
       "2  39164  2022-01-01               8               7                 NaN   \n",
       "3  39165  2022-01-01               9               8                 2.0   \n",
       "4  39166  2022-01-01               4               5                 2.0   \n",
       "\n",
       "  signup_date  user_activity_var_1  user_activity_var_2  user_activity_var_3  \\\n",
       "0  2021-08-17                    1                    1                    0   \n",
       "1  2020-05-21                    1                    0                    0   \n",
       "2         NaN                    0                    0                    0   \n",
       "3  2020-06-22                    0                    0                    0   \n",
       "4  2021-03-10                    1                    0                    0   \n",
       "\n",
       "   user_activity_var_4  user_activity_var_5  user_activity_var_6  \\\n",
       "0                    0                    0                    1   \n",
       "1                    0                    0                    0   \n",
       "2                    0                    1                    1   \n",
       "3                    0                    1                    1   \n",
       "4                    0                    0                    0   \n",
       "\n",
       "   user_activity_var_7  user_activity_var_8  user_activity_var_9  \\\n",
       "0                    0                    0                    0   \n",
       "1                    0                    1                    0   \n",
       "2                    0                    0                    0   \n",
       "3                    1                    0                    0   \n",
       "4                    0                    0                    0   \n",
       "\n",
       "   user_activity_var_10  user_activity_var_11  user_activity_var_12  \n",
       "0                     0                     1                     0  \n",
       "1                     0                     0                     0  \n",
       "2                     0                     0                     0  \n",
       "3                     0                     2                     0  \n",
       "4                     0                     0                     0  "
      ]
     },
     "metadata": {},
     "output_type": "display_data"
    },
    {
     "name": "stdout",
     "output_type": "stream",
     "text": [
      "\n",
      "\u001b[1m Tail of Train Data\u001b[0m\n"
     ]
    },
    {
     "data": {
      "text/html": [
       "<div>\n",
       "<style scoped>\n",
       "    .dataframe tbody tr th:only-of-type {\n",
       "        vertical-align: middle;\n",
       "    }\n",
       "\n",
       "    .dataframe tbody tr th {\n",
       "        vertical-align: top;\n",
       "    }\n",
       "\n",
       "    .dataframe thead th {\n",
       "        text-align: right;\n",
       "    }\n",
       "</style>\n",
       "<table border=\"1\" class=\"dataframe\">\n",
       "  <thead>\n",
       "    <tr style=\"text-align: right;\">\n",
       "      <th></th>\n",
       "      <th>id</th>\n",
       "      <th>created_at</th>\n",
       "      <th>campaign_var_1</th>\n",
       "      <th>campaign_var_2</th>\n",
       "      <th>products_purchased</th>\n",
       "      <th>signup_date</th>\n",
       "      <th>user_activity_var_1</th>\n",
       "      <th>user_activity_var_2</th>\n",
       "      <th>user_activity_var_3</th>\n",
       "      <th>user_activity_var_4</th>\n",
       "      <th>user_activity_var_5</th>\n",
       "      <th>user_activity_var_6</th>\n",
       "      <th>user_activity_var_7</th>\n",
       "      <th>user_activity_var_8</th>\n",
       "      <th>user_activity_var_9</th>\n",
       "      <th>user_activity_var_10</th>\n",
       "      <th>user_activity_var_11</th>\n",
       "      <th>user_activity_var_12</th>\n",
       "    </tr>\n",
       "  </thead>\n",
       "  <tbody>\n",
       "    <tr>\n",
       "      <th>13179</th>\n",
       "      <td>52341</td>\n",
       "      <td>2022-03-30</td>\n",
       "      <td>16</td>\n",
       "      <td>12</td>\n",
       "      <td>NaN</td>\n",
       "      <td>NaN</td>\n",
       "      <td>0</td>\n",
       "      <td>0</td>\n",
       "      <td>0</td>\n",
       "      <td>0</td>\n",
       "      <td>0</td>\n",
       "      <td>1</td>\n",
       "      <td>1</td>\n",
       "      <td>0</td>\n",
       "      <td>0</td>\n",
       "      <td>0</td>\n",
       "      <td>0</td>\n",
       "      <td>0</td>\n",
       "    </tr>\n",
       "    <tr>\n",
       "      <th>13180</th>\n",
       "      <td>52342</td>\n",
       "      <td>2022-03-30</td>\n",
       "      <td>12</td>\n",
       "      <td>8</td>\n",
       "      <td>NaN</td>\n",
       "      <td>2022-03-19</td>\n",
       "      <td>1</td>\n",
       "      <td>0</td>\n",
       "      <td>0</td>\n",
       "      <td>0</td>\n",
       "      <td>0</td>\n",
       "      <td>1</td>\n",
       "      <td>0</td>\n",
       "      <td>0</td>\n",
       "      <td>0</td>\n",
       "      <td>0</td>\n",
       "      <td>0</td>\n",
       "      <td>0</td>\n",
       "    </tr>\n",
       "    <tr>\n",
       "      <th>13181</th>\n",
       "      <td>52343</td>\n",
       "      <td>2022-03-30</td>\n",
       "      <td>14</td>\n",
       "      <td>14</td>\n",
       "      <td>3.0</td>\n",
       "      <td>2021-08-15</td>\n",
       "      <td>0</td>\n",
       "      <td>0</td>\n",
       "      <td>1</td>\n",
       "      <td>0</td>\n",
       "      <td>0</td>\n",
       "      <td>0</td>\n",
       "      <td>1</td>\n",
       "      <td>0</td>\n",
       "      <td>0</td>\n",
       "      <td>0</td>\n",
       "      <td>0</td>\n",
       "      <td>0</td>\n",
       "    </tr>\n",
       "    <tr>\n",
       "      <th>13182</th>\n",
       "      <td>52344</td>\n",
       "      <td>2022-03-30</td>\n",
       "      <td>14</td>\n",
       "      <td>10</td>\n",
       "      <td>NaN</td>\n",
       "      <td>NaN</td>\n",
       "      <td>0</td>\n",
       "      <td>0</td>\n",
       "      <td>0</td>\n",
       "      <td>0</td>\n",
       "      <td>0</td>\n",
       "      <td>0</td>\n",
       "      <td>1</td>\n",
       "      <td>0</td>\n",
       "      <td>0</td>\n",
       "      <td>0</td>\n",
       "      <td>1</td>\n",
       "      <td>0</td>\n",
       "    </tr>\n",
       "    <tr>\n",
       "      <th>13183</th>\n",
       "      <td>52345</td>\n",
       "      <td>2022-03-30</td>\n",
       "      <td>13</td>\n",
       "      <td>13</td>\n",
       "      <td>NaN</td>\n",
       "      <td>NaN</td>\n",
       "      <td>0</td>\n",
       "      <td>0</td>\n",
       "      <td>0</td>\n",
       "      <td>0</td>\n",
       "      <td>0</td>\n",
       "      <td>1</td>\n",
       "      <td>1</td>\n",
       "      <td>1</td>\n",
       "      <td>0</td>\n",
       "      <td>0</td>\n",
       "      <td>1</td>\n",
       "      <td>0</td>\n",
       "    </tr>\n",
       "  </tbody>\n",
       "</table>\n",
       "</div>"
      ],
      "text/plain": [
       "          id  created_at  campaign_var_1  campaign_var_2  products_purchased  \\\n",
       "13179  52341  2022-03-30              16              12                 NaN   \n",
       "13180  52342  2022-03-30              12               8                 NaN   \n",
       "13181  52343  2022-03-30              14              14                 3.0   \n",
       "13182  52344  2022-03-30              14              10                 NaN   \n",
       "13183  52345  2022-03-30              13              13                 NaN   \n",
       "\n",
       "      signup_date  user_activity_var_1  user_activity_var_2  \\\n",
       "13179         NaN                    0                    0   \n",
       "13180  2022-03-19                    1                    0   \n",
       "13181  2021-08-15                    0                    0   \n",
       "13182         NaN                    0                    0   \n",
       "13183         NaN                    0                    0   \n",
       "\n",
       "       user_activity_var_3  user_activity_var_4  user_activity_var_5  \\\n",
       "13179                    0                    0                    0   \n",
       "13180                    0                    0                    0   \n",
       "13181                    1                    0                    0   \n",
       "13182                    0                    0                    0   \n",
       "13183                    0                    0                    0   \n",
       "\n",
       "       user_activity_var_6  user_activity_var_7  user_activity_var_8  \\\n",
       "13179                    1                    1                    0   \n",
       "13180                    1                    0                    0   \n",
       "13181                    0                    1                    0   \n",
       "13182                    0                    1                    0   \n",
       "13183                    1                    1                    1   \n",
       "\n",
       "       user_activity_var_9  user_activity_var_10  user_activity_var_11  \\\n",
       "13179                    0                     0                     0   \n",
       "13180                    0                     0                     0   \n",
       "13181                    0                     0                     0   \n",
       "13182                    0                     0                     1   \n",
       "13183                    0                     0                     1   \n",
       "\n",
       "       user_activity_var_12  \n",
       "13179                     0  \n",
       "13180                     0  \n",
       "13181                     0  \n",
       "13182                     0  \n",
       "13183                     0  "
      ]
     },
     "metadata": {},
     "output_type": "display_data"
    }
   ],
   "source": [
    "# rows and columns of the train data\n",
    "\n",
    "print(\"\\n\\033[1mShape of Train Dataframe \\n\\033[0m\")\n",
    "print(\": Rows- {}, Columns- {}\".format(df_train.shape[0], df_train.shape[1]))\n",
    "\n",
    "# visualise the train dataset\n",
    "print(\"\\n\\033[1m Head of Train Data\\033[0m\")\n",
    "display(df_train.head())\n",
    "\n",
    "print(\"\\n\\033[1m Tail of Train Data\\033[0m\")\n",
    "display(df_train.tail())\n",
    "\n",
    "print(\"\\n\\033[1mShape of Test Dataframe \\n\\033[0m\")\n",
    "print(\": Rows- {}, Columns- {}\".format(test_sub.shape[0], test_sub.shape[1]))\n",
    "\n",
    "# visualise the test dataset\n",
    "print(\"\\n\\033[1m Head of Train Data\\033[0m\")\n",
    "display(test_sub.head())\n",
    "\n",
    "print(\"\\n\\033[1m Tail of Train Data\\033[0m\")\n",
    "display(test_sub.tail())"
   ]
  },
  {
   "cell_type": "markdown",
   "id": "f3bd1b36",
   "metadata": {},
   "source": [
    "<div class=\"alert alert-info\" style=\"padding:0px 10px; border-radius:5px;\"><h4 style='margin:10px 5px'>Observation:</h4>\n",
    "</div>\n",
    "\n",
    "- Train data set contains 39161 rows and 19 variables i.e feature\n",
    "- Test data set contain 13184 rows and 18 columns i.e feature\n",
    "- means train data has 18 feature and one target, here \"buy\" has the target variable\n",
    "\n",
    "###### Data Description\n",
    "- __id__: Unique identifier of a lead\n",
    "- __created_at__: Date of lead dropped\n",
    "- __signup_date__: Sign up date of the user on the website\n",
    "- __campaign_var (1 and 2)__: Campaign information of the lead\n",
    "- __products_purchased__: No. of past products purchased at the time of dropping the lead\n",
    "- __user_activity_var (1 to 12)__: Derived activities of the user on the website\n",
    "- __buy__: 0 or 1 indicating if the user will buy the product in next 3 months or not (__Target Variable__)\n",
    "\n",
    "###### Let's check Memory occupied by the dataframe (in mb)"
   ]
  },
  {
   "cell_type": "code",
   "execution_count": 4,
   "id": "d4a99689",
   "metadata": {},
   "outputs": [
    {
     "data": {
      "text/plain": [
       "9.579318046569824"
      ]
     },
     "execution_count": 4,
     "metadata": {},
     "output_type": "execute_result"
    }
   ],
   "source": [
    "#memory occupied by train dataframe\n",
    "df_train.memory_usage(deep=True).sum() / 1024**2  "
   ]
  },
  {
   "cell_type": "code",
   "execution_count": 5,
   "id": "e246da3a",
   "metadata": {},
   "outputs": [
    {
     "data": {
      "text/plain": [
       "3.0723772048950195"
      ]
     },
     "execution_count": 5,
     "metadata": {},
     "output_type": "execute_result"
    }
   ],
   "source": [
    "#memory occupied by test dataframe\n",
    "test_sub.memory_usage(deep=True).sum() / 1024**2  "
   ]
  },
  {
   "cell_type": "markdown",
   "id": "fbe865f9",
   "metadata": {},
   "source": [
    "Both dataframe take less memorey and no need to take any action for memory optimizaion "
   ]
  },
  {
   "cell_type": "markdown",
   "id": "058bd4a8",
   "metadata": {},
   "source": [
    "## 3. Basic Data Stats\n",
    "\n",
    "Before attempting to solve the problem, it's very important to have a good understanding of data.\n",
    "\n",
    "The goal of this section is to:\n",
    "- Get the dimensions of data\n",
    "- Get the summary of data\n",
    "- Get various statistics of data\n",
    "\n",
    "#### Shape of dataframe"
   ]
  },
  {
   "cell_type": "code",
   "execution_count": 6,
   "id": "0ba2d9af",
   "metadata": {},
   "outputs": [
    {
     "name": "stdout",
     "output_type": "stream",
     "text": [
      "(39161, 19)\n"
     ]
    }
   ],
   "source": [
    "# Dimensions of train dataset\n",
    "print(df_train.shape)"
   ]
  },
  {
   "cell_type": "markdown",
   "id": "bc0f17c0",
   "metadata": {},
   "source": [
    "The dataset has 39161 rows and 19 columns"
   ]
  },
  {
   "cell_type": "code",
   "execution_count": 7,
   "id": "95e3635c",
   "metadata": {},
   "outputs": [
    {
     "name": "stdout",
     "output_type": "stream",
     "text": [
      "<class 'pandas.core.frame.DataFrame'>\n",
      "RangeIndex: 39161 entries, 0 to 39160\n",
      "Data columns (total 19 columns):\n",
      " #   Column                Non-Null Count  Dtype  \n",
      "---  ------                --------------  -----  \n",
      " 0   id                    39161 non-null  int64  \n",
      " 1   created_at            39161 non-null  object \n",
      " 2   campaign_var_1        39161 non-null  int64  \n",
      " 3   campaign_var_2        39161 non-null  int64  \n",
      " 4   products_purchased    18250 non-null  float64\n",
      " 5   signup_date           24048 non-null  object \n",
      " 6   user_activity_var_1   39161 non-null  int64  \n",
      " 7   user_activity_var_2   39161 non-null  int64  \n",
      " 8   user_activity_var_3   39161 non-null  int64  \n",
      " 9   user_activity_var_4   39161 non-null  int64  \n",
      " 10  user_activity_var_5   39161 non-null  int64  \n",
      " 11  user_activity_var_6   39161 non-null  int64  \n",
      " 12  user_activity_var_7   39161 non-null  int64  \n",
      " 13  user_activity_var_8   39161 non-null  int64  \n",
      " 14  user_activity_var_9   39161 non-null  int64  \n",
      " 15  user_activity_var_10  39161 non-null  int64  \n",
      " 16  user_activity_var_11  39161 non-null  int64  \n",
      " 17  user_activity_var_12  39161 non-null  int64  \n",
      " 18  buy                   39161 non-null  int64  \n",
      "dtypes: float64(1), int64(16), object(2)\n",
      "memory usage: 5.7+ MB\n"
     ]
    }
   ],
   "source": [
    "#lets check the the data type used for each columns\n",
    "df_train.info()"
   ]
  },
  {
   "cell_type": "markdown",
   "id": "a06392bc",
   "metadata": {},
   "source": [
    "* created_at and signup_date is the date field, let's convert it to datetime"
   ]
  },
  {
   "cell_type": "code",
   "execution_count": 8,
   "id": "a82c1311",
   "metadata": {},
   "outputs": [],
   "source": [
    "#apply to traing set\n",
    "df_train[[\"created_at\", \"signup_date\"]] = df_train[[\"created_at\", \"signup_date\"]].apply(pd.to_datetime)\n",
    "\n",
    "#apply to submissin set\n",
    "test_sub[[\"created_at\", \"signup_date\"]] = test_sub[[\"created_at\", \"signup_date\"]].apply(pd.to_datetime)"
   ]
  },
  {
   "cell_type": "markdown",
   "id": "00448c92",
   "metadata": {},
   "source": [
    "#### Summary of dataframe (5 number summary of dataframe)"
   ]
  },
  {
   "cell_type": "code",
   "execution_count": 9,
   "id": "529ac898",
   "metadata": {},
   "outputs": [
    {
     "data": {
      "text/html": [
       "<div>\n",
       "<style scoped>\n",
       "    .dataframe tbody tr th:only-of-type {\n",
       "        vertical-align: middle;\n",
       "    }\n",
       "\n",
       "    .dataframe tbody tr th {\n",
       "        vertical-align: top;\n",
       "    }\n",
       "\n",
       "    .dataframe thead th {\n",
       "        text-align: right;\n",
       "    }\n",
       "</style>\n",
       "<table border=\"1\" class=\"dataframe\">\n",
       "  <thead>\n",
       "    <tr style=\"text-align: right;\">\n",
       "      <th></th>\n",
       "      <th>id</th>\n",
       "      <th>created_at</th>\n",
       "      <th>campaign_var_1</th>\n",
       "      <th>campaign_var_2</th>\n",
       "      <th>products_purchased</th>\n",
       "      <th>signup_date</th>\n",
       "      <th>user_activity_var_1</th>\n",
       "      <th>user_activity_var_2</th>\n",
       "      <th>user_activity_var_3</th>\n",
       "      <th>user_activity_var_4</th>\n",
       "      <th>user_activity_var_5</th>\n",
       "      <th>user_activity_var_6</th>\n",
       "      <th>user_activity_var_7</th>\n",
       "      <th>user_activity_var_8</th>\n",
       "      <th>user_activity_var_9</th>\n",
       "      <th>user_activity_var_10</th>\n",
       "      <th>user_activity_var_11</th>\n",
       "      <th>user_activity_var_12</th>\n",
       "      <th>buy</th>\n",
       "    </tr>\n",
       "  </thead>\n",
       "  <tbody>\n",
       "    <tr>\n",
       "      <th>count</th>\n",
       "      <td>39161.0</td>\n",
       "      <td>NaN</td>\n",
       "      <td>39161.0</td>\n",
       "      <td>39161.0</td>\n",
       "      <td>18250.0</td>\n",
       "      <td>NaN</td>\n",
       "      <td>39161.0</td>\n",
       "      <td>39161.0</td>\n",
       "      <td>39161.0</td>\n",
       "      <td>39161.0</td>\n",
       "      <td>39161.0</td>\n",
       "      <td>39161.0</td>\n",
       "      <td>39161.0</td>\n",
       "      <td>39161.0</td>\n",
       "      <td>39161.0</td>\n",
       "      <td>39161.0</td>\n",
       "      <td>39161.0</td>\n",
       "      <td>39161.0</td>\n",
       "      <td>39161.0</td>\n",
       "    </tr>\n",
       "    <tr>\n",
       "      <th>mean</th>\n",
       "      <td>19581.0</td>\n",
       "      <td>NaN</td>\n",
       "      <td>6.523812</td>\n",
       "      <td>6.452746</td>\n",
       "      <td>2.154137</td>\n",
       "      <td>NaN</td>\n",
       "      <td>0.400092</td>\n",
       "      <td>0.006716</td>\n",
       "      <td>0.102832</td>\n",
       "      <td>0.011465</td>\n",
       "      <td>0.151503</td>\n",
       "      <td>0.499834</td>\n",
       "      <td>0.286612</td>\n",
       "      <td>0.174434</td>\n",
       "      <td>0.01144</td>\n",
       "      <td>0.000383</td>\n",
       "      <td>0.218942</td>\n",
       "      <td>0.000562</td>\n",
       "      <td>0.05102</td>\n",
       "    </tr>\n",
       "    <tr>\n",
       "      <th>std</th>\n",
       "      <td>11304.951283</td>\n",
       "      <td>NaN</td>\n",
       "      <td>3.472944</td>\n",
       "      <td>2.614296</td>\n",
       "      <td>0.779815</td>\n",
       "      <td>NaN</td>\n",
       "      <td>0.509194</td>\n",
       "      <td>0.081676</td>\n",
       "      <td>0.303743</td>\n",
       "      <td>0.106463</td>\n",
       "      <td>0.359681</td>\n",
       "      <td>0.558166</td>\n",
       "      <td>0.455784</td>\n",
       "      <td>0.379689</td>\n",
       "      <td>0.106346</td>\n",
       "      <td>0.019568</td>\n",
       "      <td>0.431544</td>\n",
       "      <td>0.023696</td>\n",
       "      <td>0.220042</td>\n",
       "    </tr>\n",
       "    <tr>\n",
       "      <th>min</th>\n",
       "      <td>1.0</td>\n",
       "      <td>NaN</td>\n",
       "      <td>1.0</td>\n",
       "      <td>1.0</td>\n",
       "      <td>1.0</td>\n",
       "      <td>NaN</td>\n",
       "      <td>0.0</td>\n",
       "      <td>0.0</td>\n",
       "      <td>0.0</td>\n",
       "      <td>0.0</td>\n",
       "      <td>0.0</td>\n",
       "      <td>0.0</td>\n",
       "      <td>0.0</td>\n",
       "      <td>0.0</td>\n",
       "      <td>0.0</td>\n",
       "      <td>0.0</td>\n",
       "      <td>0.0</td>\n",
       "      <td>0.0</td>\n",
       "      <td>0.0</td>\n",
       "    </tr>\n",
       "    <tr>\n",
       "      <th>25%</th>\n",
       "      <td>9791.0</td>\n",
       "      <td>NaN</td>\n",
       "      <td>4.0</td>\n",
       "      <td>5.0</td>\n",
       "      <td>2.0</td>\n",
       "      <td>NaN</td>\n",
       "      <td>0.0</td>\n",
       "      <td>0.0</td>\n",
       "      <td>0.0</td>\n",
       "      <td>0.0</td>\n",
       "      <td>0.0</td>\n",
       "      <td>0.0</td>\n",
       "      <td>0.0</td>\n",
       "      <td>0.0</td>\n",
       "      <td>0.0</td>\n",
       "      <td>0.0</td>\n",
       "      <td>0.0</td>\n",
       "      <td>0.0</td>\n",
       "      <td>0.0</td>\n",
       "    </tr>\n",
       "    <tr>\n",
       "      <th>50%</th>\n",
       "      <td>19581.0</td>\n",
       "      <td>NaN</td>\n",
       "      <td>6.0</td>\n",
       "      <td>6.0</td>\n",
       "      <td>2.0</td>\n",
       "      <td>NaN</td>\n",
       "      <td>0.0</td>\n",
       "      <td>0.0</td>\n",
       "      <td>0.0</td>\n",
       "      <td>0.0</td>\n",
       "      <td>0.0</td>\n",
       "      <td>0.0</td>\n",
       "      <td>0.0</td>\n",
       "      <td>0.0</td>\n",
       "      <td>0.0</td>\n",
       "      <td>0.0</td>\n",
       "      <td>0.0</td>\n",
       "      <td>0.0</td>\n",
       "      <td>0.0</td>\n",
       "    </tr>\n",
       "    <tr>\n",
       "      <th>75%</th>\n",
       "      <td>29371.0</td>\n",
       "      <td>NaN</td>\n",
       "      <td>9.0</td>\n",
       "      <td>8.0</td>\n",
       "      <td>3.0</td>\n",
       "      <td>NaN</td>\n",
       "      <td>1.0</td>\n",
       "      <td>0.0</td>\n",
       "      <td>0.0</td>\n",
       "      <td>0.0</td>\n",
       "      <td>0.0</td>\n",
       "      <td>1.0</td>\n",
       "      <td>1.0</td>\n",
       "      <td>0.0</td>\n",
       "      <td>0.0</td>\n",
       "      <td>0.0</td>\n",
       "      <td>0.0</td>\n",
       "      <td>0.0</td>\n",
       "      <td>0.0</td>\n",
       "    </tr>\n",
       "    <tr>\n",
       "      <th>max</th>\n",
       "      <td>39161.0</td>\n",
       "      <td>NaN</td>\n",
       "      <td>16.0</td>\n",
       "      <td>15.0</td>\n",
       "      <td>4.0</td>\n",
       "      <td>NaN</td>\n",
       "      <td>3.0</td>\n",
       "      <td>1.0</td>\n",
       "      <td>1.0</td>\n",
       "      <td>1.0</td>\n",
       "      <td>2.0</td>\n",
       "      <td>3.0</td>\n",
       "      <td>2.0</td>\n",
       "      <td>2.0</td>\n",
       "      <td>1.0</td>\n",
       "      <td>1.0</td>\n",
       "      <td>4.0</td>\n",
       "      <td>1.0</td>\n",
       "      <td>1.0</td>\n",
       "    </tr>\n",
       "    <tr>\n",
       "      <th>counts</th>\n",
       "      <td>39161</td>\n",
       "      <td>39161</td>\n",
       "      <td>39161</td>\n",
       "      <td>39161</td>\n",
       "      <td>18250</td>\n",
       "      <td>24048</td>\n",
       "      <td>39161</td>\n",
       "      <td>39161</td>\n",
       "      <td>39161</td>\n",
       "      <td>39161</td>\n",
       "      <td>39161</td>\n",
       "      <td>39161</td>\n",
       "      <td>39161</td>\n",
       "      <td>39161</td>\n",
       "      <td>39161</td>\n",
       "      <td>39161</td>\n",
       "      <td>39161</td>\n",
       "      <td>39161</td>\n",
       "      <td>39161</td>\n",
       "    </tr>\n",
       "    <tr>\n",
       "      <th>uniques</th>\n",
       "      <td>39161</td>\n",
       "      <td>365</td>\n",
       "      <td>16</td>\n",
       "      <td>15</td>\n",
       "      <td>4</td>\n",
       "      <td>1800</td>\n",
       "      <td>4</td>\n",
       "      <td>2</td>\n",
       "      <td>2</td>\n",
       "      <td>2</td>\n",
       "      <td>3</td>\n",
       "      <td>4</td>\n",
       "      <td>3</td>\n",
       "      <td>3</td>\n",
       "      <td>2</td>\n",
       "      <td>2</td>\n",
       "      <td>5</td>\n",
       "      <td>2</td>\n",
       "      <td>2</td>\n",
       "    </tr>\n",
       "    <tr>\n",
       "      <th>missing</th>\n",
       "      <td>0</td>\n",
       "      <td>0</td>\n",
       "      <td>0</td>\n",
       "      <td>0</td>\n",
       "      <td>20911</td>\n",
       "      <td>15113</td>\n",
       "      <td>0</td>\n",
       "      <td>0</td>\n",
       "      <td>0</td>\n",
       "      <td>0</td>\n",
       "      <td>0</td>\n",
       "      <td>0</td>\n",
       "      <td>0</td>\n",
       "      <td>0</td>\n",
       "      <td>0</td>\n",
       "      <td>0</td>\n",
       "      <td>0</td>\n",
       "      <td>0</td>\n",
       "      <td>0</td>\n",
       "    </tr>\n",
       "    <tr>\n",
       "      <th>missing_perc</th>\n",
       "      <td>0%</td>\n",
       "      <td>0%</td>\n",
       "      <td>0%</td>\n",
       "      <td>0%</td>\n",
       "      <td>53.40%</td>\n",
       "      <td>38.59%</td>\n",
       "      <td>0%</td>\n",
       "      <td>0%</td>\n",
       "      <td>0%</td>\n",
       "      <td>0%</td>\n",
       "      <td>0%</td>\n",
       "      <td>0%</td>\n",
       "      <td>0%</td>\n",
       "      <td>0%</td>\n",
       "      <td>0%</td>\n",
       "      <td>0%</td>\n",
       "      <td>0%</td>\n",
       "      <td>0%</td>\n",
       "      <td>0%</td>\n",
       "    </tr>\n",
       "    <tr>\n",
       "      <th>types</th>\n",
       "      <td>numeric</td>\n",
       "      <td>date</td>\n",
       "      <td>numeric</td>\n",
       "      <td>numeric</td>\n",
       "      <td>numeric</td>\n",
       "      <td>date</td>\n",
       "      <td>numeric</td>\n",
       "      <td>bool</td>\n",
       "      <td>bool</td>\n",
       "      <td>bool</td>\n",
       "      <td>numeric</td>\n",
       "      <td>numeric</td>\n",
       "      <td>numeric</td>\n",
       "      <td>numeric</td>\n",
       "      <td>bool</td>\n",
       "      <td>bool</td>\n",
       "      <td>numeric</td>\n",
       "      <td>bool</td>\n",
       "      <td>bool</td>\n",
       "    </tr>\n",
       "  </tbody>\n",
       "</table>\n",
       "</div>"
      ],
      "text/plain": [
       "                        id created_at campaign_var_1 campaign_var_2  \\\n",
       "count              39161.0        NaN        39161.0        39161.0   \n",
       "mean               19581.0        NaN       6.523812       6.452746   \n",
       "std           11304.951283        NaN       3.472944       2.614296   \n",
       "min                    1.0        NaN            1.0            1.0   \n",
       "25%                 9791.0        NaN            4.0            5.0   \n",
       "50%                19581.0        NaN            6.0            6.0   \n",
       "75%                29371.0        NaN            9.0            8.0   \n",
       "max                39161.0        NaN           16.0           15.0   \n",
       "counts               39161      39161          39161          39161   \n",
       "uniques              39161        365             16             15   \n",
       "missing                  0          0              0              0   \n",
       "missing_perc            0%         0%             0%             0%   \n",
       "types              numeric       date        numeric        numeric   \n",
       "\n",
       "             products_purchased signup_date user_activity_var_1  \\\n",
       "count                   18250.0         NaN             39161.0   \n",
       "mean                   2.154137         NaN            0.400092   \n",
       "std                    0.779815         NaN            0.509194   \n",
       "min                         1.0         NaN                 0.0   \n",
       "25%                         2.0         NaN                 0.0   \n",
       "50%                         2.0         NaN                 0.0   \n",
       "75%                         3.0         NaN                 1.0   \n",
       "max                         4.0         NaN                 3.0   \n",
       "counts                    18250       24048               39161   \n",
       "uniques                       4        1800                   4   \n",
       "missing                   20911       15113                   0   \n",
       "missing_perc             53.40%      38.59%                  0%   \n",
       "types                   numeric        date             numeric   \n",
       "\n",
       "             user_activity_var_2 user_activity_var_3 user_activity_var_4  \\\n",
       "count                    39161.0             39161.0             39161.0   \n",
       "mean                    0.006716            0.102832            0.011465   \n",
       "std                     0.081676            0.303743            0.106463   \n",
       "min                          0.0                 0.0                 0.0   \n",
       "25%                          0.0                 0.0                 0.0   \n",
       "50%                          0.0                 0.0                 0.0   \n",
       "75%                          0.0                 0.0                 0.0   \n",
       "max                          1.0                 1.0                 1.0   \n",
       "counts                     39161               39161               39161   \n",
       "uniques                        2                   2                   2   \n",
       "missing                        0                   0                   0   \n",
       "missing_perc                  0%                  0%                  0%   \n",
       "types                       bool                bool                bool   \n",
       "\n",
       "             user_activity_var_5 user_activity_var_6 user_activity_var_7  \\\n",
       "count                    39161.0             39161.0             39161.0   \n",
       "mean                    0.151503            0.499834            0.286612   \n",
       "std                     0.359681            0.558166            0.455784   \n",
       "min                          0.0                 0.0                 0.0   \n",
       "25%                          0.0                 0.0                 0.0   \n",
       "50%                          0.0                 0.0                 0.0   \n",
       "75%                          0.0                 1.0                 1.0   \n",
       "max                          2.0                 3.0                 2.0   \n",
       "counts                     39161               39161               39161   \n",
       "uniques                        3                   4                   3   \n",
       "missing                        0                   0                   0   \n",
       "missing_perc                  0%                  0%                  0%   \n",
       "types                    numeric             numeric             numeric   \n",
       "\n",
       "             user_activity_var_8 user_activity_var_9 user_activity_var_10  \\\n",
       "count                    39161.0             39161.0              39161.0   \n",
       "mean                    0.174434             0.01144             0.000383   \n",
       "std                     0.379689            0.106346             0.019568   \n",
       "min                          0.0                 0.0                  0.0   \n",
       "25%                          0.0                 0.0                  0.0   \n",
       "50%                          0.0                 0.0                  0.0   \n",
       "75%                          0.0                 0.0                  0.0   \n",
       "max                          2.0                 1.0                  1.0   \n",
       "counts                     39161               39161                39161   \n",
       "uniques                        3                   2                    2   \n",
       "missing                        0                   0                    0   \n",
       "missing_perc                  0%                  0%                   0%   \n",
       "types                    numeric                bool                 bool   \n",
       "\n",
       "             user_activity_var_11 user_activity_var_12       buy  \n",
       "count                     39161.0              39161.0   39161.0  \n",
       "mean                     0.218942             0.000562   0.05102  \n",
       "std                      0.431544             0.023696  0.220042  \n",
       "min                           0.0                  0.0       0.0  \n",
       "25%                           0.0                  0.0       0.0  \n",
       "50%                           0.0                  0.0       0.0  \n",
       "75%                           0.0                  0.0       0.0  \n",
       "max                           4.0                  1.0       1.0  \n",
       "counts                      39161                39161     39161  \n",
       "uniques                         5                    2         2  \n",
       "missing                         0                    0         0  \n",
       "missing_perc                   0%                   0%        0%  \n",
       "types                     numeric                 bool      bool  "
      ]
     },
     "execution_count": 9,
     "metadata": {},
     "output_type": "execute_result"
    }
   ],
   "source": [
    "#using pandas_summary finding the insight of whole data frame in oneshot\n",
    "from pandas_summary import DataFrameSummary\n",
    "df_summary = DataFrameSummary(df_train)\n",
    "df_summary.summary()"
   ]
  },
  {
   "cell_type": "code",
   "execution_count": 10,
   "id": "55e7725d",
   "metadata": {},
   "outputs": [],
   "source": [
    "# sns.pairplot(df_train, hue='buy')"
   ]
  },
  {
   "cell_type": "markdown",
   "id": "b4f02a10",
   "metadata": {},
   "source": [
    "__Check class imbalance__"
   ]
  },
  {
   "cell_type": "code",
   "execution_count": 11,
   "id": "8c1de769",
   "metadata": {},
   "outputs": [
    {
     "data": {
      "text/plain": [
       "0    37163\n",
       "1     1998\n",
       "Name: buy, dtype: int64"
      ]
     },
     "execution_count": 11,
     "metadata": {},
     "output_type": "execute_result"
    }
   ],
   "source": [
    "df_train.loc[:, 'buy'].value_counts()"
   ]
  },
  {
   "cell_type": "markdown",
   "id": "cc884ece",
   "metadata": {},
   "source": [
    "<div class=\"alert alert-info\" style=\"padding:0px 10px; border-radius:5px;\"><h4 style='margin:10px 5px'> Inferences:</h4>\n",
    "</div>\n",
    "\n",
    "**Lot of interesting things can be observed here:**\n",
    "- column products_purchased and signup_date found missing values of 53.4% and 38.59% respectively \n",
    "- campaign_var (1 and 2) has numeric values and found 15 to 16 unique values in range of(1 to 16)\n",
    "- products_purchased has also numeric values and have 4 unique values\n",
    "- user_activity_var (1 to 12) - has some numeric values and some boolean values\n",
    "- Target class is imbalanced.will do the necessary action if need"
   ]
  },
  {
   "cell_type": "markdown",
   "id": "68686bae",
   "metadata": {},
   "source": [
    "## 4. Data Preprocessing for EDA\n",
    "\n",
    "The goal of this section is to:\n",
    "\n",
    "- Identifying missing values in data\n",
    "- Replacing missing values in data\n",
    "- Removing missing values from data\n",
    "- Handling Skewed data\n",
    "- Outliers detection and removal\n",
    "- Finding and fixing Imbalance class\n",
    "- Encoding Categorical Data"
   ]
  },
  {
   "cell_type": "markdown",
   "id": "abc96caa",
   "metadata": {},
   "source": [
    "__Let's Check the variable types__"
   ]
  },
  {
   "cell_type": "code",
   "execution_count": 12,
   "id": "cbd9fae8",
   "metadata": {},
   "outputs": [
    {
     "data": {
      "text/plain": [
       "0"
      ]
     },
     "execution_count": 12,
     "metadata": {},
     "output_type": "execute_result"
    }
   ],
   "source": [
    "cat_vars = [var for var in df_train.columns if df_train[var].dtype == 'O']\n",
    "len(cat_vars)"
   ]
  },
  {
   "cell_type": "markdown",
   "id": "28e49333",
   "metadata": {},
   "source": [
    "Not found any categorical variables"
   ]
  },
  {
   "cell_type": "code",
   "execution_count": 13,
   "id": "95e15362",
   "metadata": {},
   "outputs": [
    {
     "name": "stdout",
     "output_type": "stream",
     "text": [
      "Number of Numerical Variable : 16\n",
      "\n",
      "Numerical Variable:\n",
      " ['id', 'campaign_var_1', 'campaign_var_2', 'products_purchased', 'user_activity_var_1', 'user_activity_var_2', 'user_activity_var_3', 'user_activity_var_4', 'user_activity_var_5', 'user_activity_var_6', 'user_activity_var_7', 'user_activity_var_8', 'user_activity_var_9', 'user_activity_var_10', 'user_activity_var_11', 'user_activity_var_12']\n"
     ]
    }
   ],
   "source": [
    "# now let's identify the numerical variables\n",
    "\n",
    "num_vars = [\n",
    "    var for var in df_train.columns if var not in cat_vars and var not in ['buy','created_at','signup_date']\n",
    "]\n",
    "print(\"Number of Numerical Variable :\",len(num_vars))\n",
    "\n",
    "print(\"\\nNumerical Variable:\\n\",num_vars)"
   ]
  },
  {
   "cell_type": "markdown",
   "id": "985c96f7",
   "metadata": {},
   "source": [
    "__Missing values__"
   ]
  },
  {
   "cell_type": "code",
   "execution_count": 14,
   "id": "600aac55",
   "metadata": {},
   "outputs": [
    {
     "data": {
      "text/plain": [
       "products_purchased    0.533975\n",
       "signup_date           0.385920\n",
       "dtype: float64"
      ]
     },
     "execution_count": 14,
     "metadata": {},
     "output_type": "execute_result"
    }
   ],
   "source": [
    "# make a list of the variables that contain missing values\n",
    "vars_with_na = [var for var in df_train.columns if df_train[var].isnull().sum() > 0]\n",
    "\n",
    "# determine percentage of missing values (expressed as decimals)\n",
    "# and display the result ordered by % of missin data\n",
    "\n",
    "df_train[vars_with_na].isnull().mean().sort_values(ascending=False)"
   ]
  },
  {
   "cell_type": "markdown",
   "id": "16a76d32",
   "metadata": {},
   "source": [
    "Its observerd that products_purchased and signup_date has the null values or missing values, same is observered in the data summary"
   ]
  },
  {
   "cell_type": "code",
   "execution_count": 15,
   "id": "2195090c",
   "metadata": {},
   "outputs": [
    {
     "data": {
      "text/plain": [
       "array([ 2.,  3., nan,  1.,  4.])"
      ]
     },
     "execution_count": 15,
     "metadata": {},
     "output_type": "execute_result"
    }
   ],
   "source": [
    "#Let's check the unique values\n",
    "df_train['products_purchased'].unique()"
   ]
  },
  {
   "cell_type": "markdown",
   "id": "a6a063b8",
   "metadata": {},
   "source": [
    "#### Checking Relationship between missing data on products_purchased and buy "
   ]
  },
  {
   "cell_type": "code",
   "execution_count": 16,
   "id": "4270e495",
   "metadata": {},
   "outputs": [
    {
     "data": {
      "text/plain": [
       "buy\n",
       "0    19866\n",
       "1     1045\n",
       "Name: products_purchased, dtype: int64"
      ]
     },
     "execution_count": 16,
     "metadata": {},
     "output_type": "execute_result"
    }
   ],
   "source": [
    "df_missing = df_train.copy()\n",
    "var = 'products_purchased'\n",
    "df_missing = df_missing.loc[df_missing['products_purchased'].isnull()]\n",
    "df_missing[var] = np.where(df_missing[var].isnull(), 1, 0)\n",
    "df_missing.groupby('buy')['products_purchased'].count()"
   ]
  },
  {
   "cell_type": "markdown",
   "id": "b37e6093",
   "metadata": {},
   "source": [
    "* Its shows that missing values in products_purchased 5% has one value and 95% has 0 values\n",
    "* droping nan values"
   ]
  },
  {
   "cell_type": "code",
   "execution_count": 17,
   "id": "1ac7bdcd",
   "metadata": {},
   "outputs": [],
   "source": [
    "#in submissin file we are replacing with 0\n",
    "df_train['products_purchased'] = df_train['products_purchased'].astype(str).str.replace(\"nan\",\"0\")\n",
    "df_train['products_purchased']= df_train['products_purchased'].astype('float')"
   ]
  },
  {
   "cell_type": "code",
   "execution_count": 18,
   "id": "8449670e",
   "metadata": {},
   "outputs": [],
   "source": [
    "df_train = df_train.dropna()"
   ]
  },
  {
   "cell_type": "code",
   "execution_count": 19,
   "id": "4d7a59c7",
   "metadata": {},
   "outputs": [],
   "source": [
    "#in submissin file we are replacing with 0\n",
    "test_sub['products_purchased'] = test_sub['products_purchased'].astype(str).str.replace(\"nan\",\"0\")\n",
    "test_sub['products_purchased']= test_sub['products_purchased'].astype('float')"
   ]
  },
  {
   "cell_type": "markdown",
   "id": "197cea6d",
   "metadata": {},
   "source": [
    "__Numerical variables__\n",
    "* Let's go ahead and find out what numerical variables we have in the dataset"
   ]
  },
  {
   "cell_type": "code",
   "execution_count": 20,
   "id": "ccb16502",
   "metadata": {},
   "outputs": [
    {
     "data": {
      "text/plain": [
       "16"
      ]
     },
     "execution_count": 20,
     "metadata": {},
     "output_type": "execute_result"
    }
   ],
   "source": [
    "len(num_vars)"
   ]
  },
  {
   "cell_type": "code",
   "execution_count": 21,
   "id": "7c2b3c68",
   "metadata": {},
   "outputs": [
    {
     "data": {
      "text/html": [
       "<div>\n",
       "<style scoped>\n",
       "    .dataframe tbody tr th:only-of-type {\n",
       "        vertical-align: middle;\n",
       "    }\n",
       "\n",
       "    .dataframe tbody tr th {\n",
       "        vertical-align: top;\n",
       "    }\n",
       "\n",
       "    .dataframe thead th {\n",
       "        text-align: right;\n",
       "    }\n",
       "</style>\n",
       "<table border=\"1\" class=\"dataframe\">\n",
       "  <thead>\n",
       "    <tr style=\"text-align: right;\">\n",
       "      <th></th>\n",
       "      <th>id</th>\n",
       "      <th>campaign_var_1</th>\n",
       "      <th>campaign_var_2</th>\n",
       "      <th>products_purchased</th>\n",
       "      <th>user_activity_var_1</th>\n",
       "      <th>user_activity_var_2</th>\n",
       "      <th>user_activity_var_3</th>\n",
       "      <th>user_activity_var_4</th>\n",
       "      <th>user_activity_var_5</th>\n",
       "      <th>user_activity_var_6</th>\n",
       "      <th>user_activity_var_7</th>\n",
       "      <th>user_activity_var_8</th>\n",
       "      <th>user_activity_var_9</th>\n",
       "      <th>user_activity_var_10</th>\n",
       "      <th>user_activity_var_11</th>\n",
       "      <th>user_activity_var_12</th>\n",
       "    </tr>\n",
       "  </thead>\n",
       "  <tbody>\n",
       "    <tr>\n",
       "      <th>0</th>\n",
       "      <td>1</td>\n",
       "      <td>1</td>\n",
       "      <td>2</td>\n",
       "      <td>2.0</td>\n",
       "      <td>0</td>\n",
       "      <td>0</td>\n",
       "      <td>0</td>\n",
       "      <td>0</td>\n",
       "      <td>0</td>\n",
       "      <td>0</td>\n",
       "      <td>1</td>\n",
       "      <td>1</td>\n",
       "      <td>0</td>\n",
       "      <td>0</td>\n",
       "      <td>0</td>\n",
       "      <td>0</td>\n",
       "    </tr>\n",
       "    <tr>\n",
       "      <th>1</th>\n",
       "      <td>2</td>\n",
       "      <td>2</td>\n",
       "      <td>1</td>\n",
       "      <td>2.0</td>\n",
       "      <td>1</td>\n",
       "      <td>0</td>\n",
       "      <td>1</td>\n",
       "      <td>0</td>\n",
       "      <td>0</td>\n",
       "      <td>0</td>\n",
       "      <td>1</td>\n",
       "      <td>0</td>\n",
       "      <td>0</td>\n",
       "      <td>0</td>\n",
       "      <td>0</td>\n",
       "      <td>0</td>\n",
       "    </tr>\n",
       "  </tbody>\n",
       "</table>\n",
       "</div>"
      ],
      "text/plain": [
       "   id  campaign_var_1  campaign_var_2  products_purchased  \\\n",
       "0   1               1               2                 2.0   \n",
       "1   2               2               1                 2.0   \n",
       "\n",
       "   user_activity_var_1  user_activity_var_2  user_activity_var_3  \\\n",
       "0                    0                    0                    0   \n",
       "1                    1                    0                    1   \n",
       "\n",
       "   user_activity_var_4  user_activity_var_5  user_activity_var_6  \\\n",
       "0                    0                    0                    0   \n",
       "1                    0                    0                    0   \n",
       "\n",
       "   user_activity_var_7  user_activity_var_8  user_activity_var_9  \\\n",
       "0                    1                    1                    0   \n",
       "1                    1                    0                    0   \n",
       "\n",
       "   user_activity_var_10  user_activity_var_11  user_activity_var_12  \n",
       "0                     0                     0                     0  \n",
       "1                     0                     0                     0  "
      ]
     },
     "execution_count": 21,
     "metadata": {},
     "output_type": "execute_result"
    }
   ],
   "source": [
    "df_train[num_vars].head(2)"
   ]
  },
  {
   "cell_type": "markdown",
   "id": "2f5b1cb0",
   "metadata": {},
   "source": [
    "__Temporal variables__\n",
    "\n",
    "We have two date variable 'signup_date' and 'created_at' let's create some temoral variable and do some reserch to check the behaviour of customer"
   ]
  },
  {
   "cell_type": "code",
   "execution_count": 22,
   "id": "e3016b63",
   "metadata": {
    "scrolled": true
   },
   "outputs": [],
   "source": [
    "# let's explore the values of these date variables\n",
    "date_var = ['signup_date','created_at']"
   ]
  },
  {
   "cell_type": "markdown",
   "id": "f9f57b4b",
   "metadata": {},
   "source": [
    "__Create Date Feature__"
   ]
  },
  {
   "cell_type": "code",
   "execution_count": 23,
   "id": "b3503c33",
   "metadata": {},
   "outputs": [],
   "source": [
    "#for signup_date\n",
    "df_train['month_sign']    = df_train['created_at'].dt.dayofweek\n",
    "df_train['weekdays_sign']    = df_train['created_at'].dt.dayofweek\n",
    "df_train['days_sign']        = df_train['created_at'].dt.day\n",
    "\n",
    "#for created_at\n",
    "df_train['month_create']    = df_train['created_at'].dt.dayofweek\n",
    "df_train['weekdays_create']    = df_train['created_at'].dt.dayofweek\n",
    "df_train['days_create']        = df_train['created_at'].dt.day"
   ]
  },
  {
   "cell_type": "markdown",
   "id": "a0f1f503",
   "metadata": {},
   "source": [
    "Let's explore the evolution of this variabel on buy "
   ]
  },
  {
   "cell_type": "code",
   "execution_count": 24,
   "id": "fa6fc5d7",
   "metadata": {},
   "outputs": [],
   "source": [
    "temp_var=['month_sign','weekdays_sign','days_sign','month_create','weekdays_create','days_create']"
   ]
  },
  {
   "cell_type": "code",
   "execution_count": 25,
   "id": "026df428",
   "metadata": {},
   "outputs": [
    {
     "data": {
      "image/png": "[encoded data removed]",
      "text/plain": [
       "<Figure size 1080x432 with 6 Axes>"
      ]
     },
     "metadata": {
      "needs_background": "light"
     },
     "output_type": "display_data"
    }
   ],
   "source": [
    "n=3\n",
    "plt.figure(figsize=[15,3*math.ceil(len(temp_var)/n)])\n",
    "\n",
    "for i in range(len(temp_var)):\n",
    "    plt.subplot(math.ceil(len(temp_var)/n),n,i+1)\n",
    "    sns.countplot(x=df_train[temp_var[i]],data = df_train,hue=df_train['buy']) \n",
    "plt.tight_layout()\n",
    "plt.show()"
   ]
  },
  {
   "cell_type": "markdown",
   "id": "1b01ba2f",
   "metadata": {},
   "source": [
    "Observation clearly shows that days 5 to 25, customer buy the product, means month end and start the response is very slow"
   ]
  },
  {
   "cell_type": "markdown",
   "id": "5af9f335",
   "metadata": {},
   "source": [
    "## 5. Exploratory Data Analysis\n",
    "\n",
    "Exploratory data analysis investigate data sets to find out patterns and see if any of the variables can be useful to explain / predict the target variables. \n",
    "\n",
    "The goal of this section is to:\n",
    "- Check if the target variable is balanced or is there a need to balance the target variable\n",
    "- Get insights or relationships from the data which would be useful from business perspective.\n",
    "\n",
    "### Check distribution of target variable"
   ]
  },
  {
   "cell_type": "code",
   "execution_count": 26,
   "id": "712e26b3",
   "metadata": {},
   "outputs": [
    {
     "data": {
      "text/plain": [
       "0    22075\n",
       "1     1973\n",
       "Name: buy, dtype: int64"
      ]
     },
     "execution_count": 26,
     "metadata": {},
     "output_type": "execute_result"
    }
   ],
   "source": [
    "df_train.loc[:, 'buy'].value_counts()"
   ]
  },
  {
   "cell_type": "code",
   "execution_count": 27,
   "id": "7dd16b91",
   "metadata": {},
   "outputs": [],
   "source": [
    "#visualise target distribution\n",
    "def visualise_target(data, target):\n",
    "    MAP={}\n",
    "    labels =[0,1]\n",
    "    for e, i in enumerate(sorted(data[target].unique())):\n",
    "        MAP[i]=labels[e]    \n",
    "    df1 = data.copy()\n",
    "    df1[target]=df1[target].map(MAP)\n",
    "    explode=np.zeros(len(labels))\n",
    "    explode[-1]=0.1\n",
    "    print('\\033[1mTarget Variable Distribution')\n",
    "    plt.pie(df1[target].value_counts(), labels=df1[target].value_counts().index, counterclock=False, shadow=False, \n",
    "    explode=explode, autopct='%1.2f%%', radius=1, startangle=-30)\n",
    "    plt.show()"
   ]
  },
  {
   "cell_type": "code",
   "execution_count": 28,
   "id": "a347036e",
   "metadata": {},
   "outputs": [
    {
     "name": "stdout",
     "output_type": "stream",
     "text": [
      "\u001b[1mTarget Variable Distribution\n"
     ]
    },
    {
     "data": {
      "image/png": "[encoded data removed]",
      "text/plain": [
       "<Figure size 432x288 with 1 Axes>"
      ]
     },
     "metadata": {},
     "output_type": "display_data"
    }
   ],
   "source": [
    "#Lets visualise the class\n",
    "visualise_target(df_train, 'buy')"
   ]
  },
  {
   "cell_type": "markdown",
   "id": "3b2d28da",
   "metadata": {},
   "source": [
    "Let's check the distribution of target class using a bar plot and check the proportion of products_purchased by customer"
   ]
  },
  {
   "cell_type": "markdown",
   "id": "ab2bfa3e",
   "metadata": {},
   "source": [
    "__products_purchased__: let's check the distribution with respect to target"
   ]
  },
  {
   "cell_type": "code",
   "execution_count": 29,
   "id": "184e5406",
   "metadata": {},
   "outputs": [
    {
     "data": {
      "text/plain": [
       "<AxesSubplot:xlabel='products_purchased', ylabel='count'>"
      ]
     },
     "execution_count": 29,
     "metadata": {},
     "output_type": "execute_result"
    },
    {
     "data": {
      "image/png": "[encoded data removed]",
      "text/plain": [
       "<Figure size 432x288 with 1 Axes>"
      ]
     },
     "metadata": {
      "needs_background": "light"
     },
     "output_type": "display_data"
    }
   ],
   "source": [
    "sns.countplot(x=df_train['products_purchased'],data = df_train,hue=df_train['buy']) "
   ]
  },
  {
   "cell_type": "markdown",
   "id": "bae64aaf",
   "metadata": {},
   "source": [
    "<div class=\"alert alert-info\" style=\"padding:0px 10px; border-radius:5px;\"><h4 style='margin:10px 5px'> Inferences:</h4>\n",
    "</div>\n",
    "\n",
    "- Looks like its normaly distributed if we neglect the 0 values which field by null values"
   ]
  },
  {
   "cell_type": "markdown",
   "id": "383b1d93",
   "metadata": {},
   "source": [
    "doing for __campaign_var_1__ and __campaign_var_2__ now"
   ]
  },
  {
   "cell_type": "code",
   "execution_count": 30,
   "id": "2c780730",
   "metadata": {},
   "outputs": [
    {
     "data": {
      "text/plain": [
       "<AxesSubplot:xlabel='campaign_var_1', ylabel='count'>"
      ]
     },
     "execution_count": 30,
     "metadata": {},
     "output_type": "execute_result"
    },
    {
     "data": {
      "image/png": "[encoded data removed]",
      "text/plain": [
       "<Figure size 432x288 with 1 Axes>"
      ]
     },
     "metadata": {
      "needs_background": "light"
     },
     "output_type": "display_data"
    }
   ],
   "source": [
    "sns.countplot(x=df_train['campaign_var_1'],data = df_train,hue=df_train['buy']) "
   ]
  },
  {
   "cell_type": "code",
   "execution_count": 31,
   "id": "1af31fc2",
   "metadata": {},
   "outputs": [
    {
     "data": {
      "text/plain": [
       "<AxesSubplot:xlabel='campaign_var_2', ylabel='count'>"
      ]
     },
     "execution_count": 31,
     "metadata": {},
     "output_type": "execute_result"
    },
    {
     "data": {
      "image/png": "[encoded data removed]",
      "text/plain": [
       "<Figure size 432x288 with 1 Axes>"
      ]
     },
     "metadata": {
      "needs_background": "light"
     },
     "output_type": "display_data"
    }
   ],
   "source": [
    "sns.countplot(x=df_train['campaign_var_2'],data = df_train,hue=df_train['buy']) "
   ]
  },
  {
   "cell_type": "markdown",
   "id": "ce7fdc8f",
   "metadata": {},
   "source": [
    "<div class=\"alert alert-info\" style=\"padding:0px 10px; border-radius:5px;\"><h4 style='margin:10px 5px'> Inferences:</h4>\n",
    "</div>\n",
    "\n",
    "- campaign_var_1 is not normally distributed and skewed toward right direction and maximumn values lie between 2 to 10 \n",
    "- campaign_var_2 almost normally distributed and maximum values lie between 3 to 10"
   ]
  },
  {
   "cell_type": "markdown",
   "id": "8758d9fa",
   "metadata": {},
   "source": [
    "Let's check the user_activity_var (1 to 12)"
   ]
  },
  {
   "cell_type": "code",
   "execution_count": 32,
   "id": "fb253f48",
   "metadata": {},
   "outputs": [
    {
     "data": {
      "image/png": "[encoded data removed]",
      "text/plain": [
       "<Figure size 1080x864 with 12 Axes>"
      ]
     },
     "metadata": {
      "needs_background": "light"
     },
     "output_type": "display_data"
    }
   ],
   "source": [
    "user_activity=[]\n",
    "for i in range(1,13):\n",
    "    user_activity.append('user_activity_var_'+str(i))\n",
    "\n",
    "n=3\n",
    "plt.figure(figsize=[15,3*math.ceil(len(user_activity)/n)])\n",
    "\n",
    "for i in range(len(user_activity)):\n",
    "    plt.subplot(math.ceil(len(user_activity)/n),n,i+1)\n",
    "    sns.countplot(x=df_train[user_activity[i]],data = df_train,hue=df_train['buy']) \n",
    "plt.tight_layout()\n",
    "plt.show()"
   ]
  },
  {
   "cell_type": "markdown",
   "id": "36a5f1b9",
   "metadata": {},
   "source": [
    "<div class=\"alert alert-info\" style=\"padding:0px 10px; border-radius:5px;\"><h4 style='margin:10px 5px'> Inferences:</h4>\n",
    "</div>\n",
    "\n",
    "* Observation shows that some user activity has no value like \n",
    "- user_activity_var_10 has no values in 1\n",
    "- user_activity_var_11 has no values in 3 and 4\n",
    "- user_activity_var_12 has no values in 1\n",
    "- user_activity_var_5 and 6 has no values in 2 and 3"
   ]
  },
  {
   "cell_type": "markdown",
   "id": "18e2c9a0",
   "metadata": {},
   "source": [
    "### 6. Statistical Significance test"
   ]
  },
  {
   "cell_type": "markdown",
   "id": "f2b9851f",
   "metadata": {},
   "source": [
    "#### Chi square test"
   ]
  },
  {
   "cell_type": "code",
   "execution_count": 33,
   "id": "7b40347b",
   "metadata": {},
   "outputs": [],
   "source": [
    "# Lets see is there any impact the user_activity feature do on target variabel\n",
    "from scipy.stats import chi2_contingency"
   ]
  },
  {
   "cell_type": "code",
   "execution_count": 34,
   "id": "21cee0af",
   "metadata": {},
   "outputs": [
    {
     "name": "stdout",
     "output_type": "stream",
     "text": [
      "user_activity_var_1  ,  chisquared=134.61038,   p-value=0.00000\n",
      "user_activity_var_2  ,  chisquared=2894.21084,   p-value=0.00000\n",
      "user_activity_var_3  ,  chisquared=0.13953,   p-value=0.70875\n",
      "user_activity_var_4  ,  chisquared=3812.47823,   p-value=0.00000\n",
      "user_activity_var_5  ,  chisquared=1057.02914,   p-value=0.00000\n",
      "user_activity_var_6  ,  chisquared=12.19296,   p-value=0.00675\n",
      "user_activity_var_7  ,  chisquared=53.42918,   p-value=0.00000\n",
      "user_activity_var_8  ,  chisquared=267.93349,   p-value=0.00000\n",
      "user_activity_var_9  ,  chisquared=5037.13610,   p-value=0.00000\n",
      "user_activity_var_10 ,  chisquared=155.95821,   p-value=0.00000\n",
      "user_activity_var_11 ,  chisquared=3644.27487,   p-value=0.00000\n",
      "user_activity_var_12 ,  chisquared=134.23903,   p-value=0.00000\n",
      "campaign_var_1       ,  chisquared=204.71129,   p-value=0.00000\n",
      "campaign_var_2       ,  chisquared=247.32125,   p-value=0.00000\n"
     ]
    }
   ],
   "source": [
    "# significance value\n",
    "alpha = 0.05\n",
    "\n",
    "significant_variables = []\n",
    "user_activity.append('campaign_var_1')\n",
    "user_activity.append('campaign_var_2')\n",
    "\n",
    "for col in user_activity:  \n",
    "    # Create a crosstab table\n",
    "    temp = pd.crosstab(df_train[col],df_train['buy'])\n",
    "    \n",
    "    # Get chi-square value , p-value, degrees of freedom, expected frequencies using the function chi2_contingency\n",
    "    stat, p, dof, expected = chi2_contingency(temp)\n",
    "    \n",
    "    # Determine whether to reject or keep your null hypothesis\n",
    "    print(col.ljust(20), ',  chisquared=%.5f,   p-value=%.5f' % (stat, p))\n",
    "    if p <= alpha:\n",
    "        significant_variables.append(col)\n",
    "    else:\n",
    "        \"\""
   ]
  },
  {
   "cell_type": "markdown",
   "id": "26725323",
   "metadata": {},
   "source": [
    "chi-square test shows that user_activity_var_3 and user_activity_var_6 is above the significance level and we can drop this"
   ]
  },
  {
   "cell_type": "markdown",
   "id": "b9b020d0",
   "metadata": {},
   "source": [
    "<div class=\"alert alert-info\" style=\"padding:0px 10px; border-radius:5px;\"><h4 style='margin:10px 5px'> EDA Summary:</h4>\n",
    "</div>\n",
    "\n",
    "- Train data set contains 39161 rows and 19 variables i.e feature\n",
    "- Test data set contain 13184 rows and 18 columns i.e feature\n",
    "- means train data has 18 feature and one target, here \"buy\" has the target variable\n",
    "- Number of Numerical Variable : 16\n",
    "- Missing values :products_purchased  (53.39%), signup_date (38.59%)\n",
    "\n",
    "**Checking Relationship between missing data on products_purchased and buy found some interesting insight**\n",
    "\n",
    "- 5% has the potential customer who bought the product\n",
    "- 95% customer do not bought the product\n",
    "\n",
    "- Replacing 5% null values with 1 and 95% null values with 0\n",
    "\n",
    "**Target**\n",
    "- Target class is imbalanced. will do the necessary action if need"
   ]
  },
  {
   "cell_type": "markdown",
   "id": "2f6004f7",
   "metadata": {},
   "source": [
    "## 7. Data Preprocessing for Model Building\n",
    "\n",
    "\n",
    "The goal of this section is to:\n",
    "- Clean up columns\n",
    "- Create X and y\n",
    "- Split the dataset in training and test sets"
   ]
  },
  {
   "cell_type": "markdown",
   "id": "4cb9db72",
   "metadata": {},
   "source": [
    "Droping the columns which may not be useful for model building"
   ]
  },
  {
   "cell_type": "code",
   "execution_count": 35,
   "id": "01e466cc",
   "metadata": {},
   "outputs": [],
   "source": [
    "# droping column on the basis of above observation\n",
    "drop_col = ['id','created_at','signup_date','month_sign','weekdays_sign','user_activity_var_3', 'user_activity_var_6', \n",
    "            'days_sign', 'month_create', 'weekdays_create',\n",
    "             'days_create']\n",
    "\n",
    "drop_col_sub = ['id','created_at','signup_date','user_activity_var_3','user_activity_var_6']\n",
    "\n",
    "df_train.drop(drop_col,axis=1, inplace=True)"
   ]
  },
  {
   "cell_type": "code",
   "execution_count": 36,
   "id": "422f1992",
   "metadata": {},
   "outputs": [],
   "source": [
    "#droping same with submission file\n",
    "X_sub = test_sub.copy() #keeping submissing file safe \n",
    "X_sub.drop(drop_col_sub,axis=1, inplace=True)"
   ]
  },
  {
   "cell_type": "code",
   "execution_count": 37,
   "id": "0621ab3a",
   "metadata": {},
   "outputs": [],
   "source": [
    "# Split the y variable series and x variables dataset\n",
    "X = df_train.drop(['buy'],axis=1)\n",
    "y = df_train['buy']"
   ]
  },
  {
   "cell_type": "code",
   "execution_count": 38,
   "id": "a62a6fe9",
   "metadata": {},
   "outputs": [],
   "source": [
    "# Split the dataset into the training set and test set\n",
    "X_train, X_test, y_train, y_test = train_test_split(X, y, test_size = 0.30, random_state = 0)"
   ]
  },
  {
   "cell_type": "code",
   "execution_count": 39,
   "id": "e1d0a5e4",
   "metadata": {},
   "outputs": [
    {
     "data": {
      "text/html": [
       "<div>\n",
       "<style scoped>\n",
       "    .dataframe tbody tr th:only-of-type {\n",
       "        vertical-align: middle;\n",
       "    }\n",
       "\n",
       "    .dataframe tbody tr th {\n",
       "        vertical-align: top;\n",
       "    }\n",
       "\n",
       "    .dataframe thead th {\n",
       "        text-align: right;\n",
       "    }\n",
       "</style>\n",
       "<table border=\"1\" class=\"dataframe\">\n",
       "  <thead>\n",
       "    <tr style=\"text-align: right;\">\n",
       "      <th></th>\n",
       "      <th>campaign_var_1</th>\n",
       "      <th>campaign_var_2</th>\n",
       "      <th>products_purchased</th>\n",
       "      <th>user_activity_var_1</th>\n",
       "      <th>user_activity_var_2</th>\n",
       "      <th>user_activity_var_4</th>\n",
       "      <th>user_activity_var_5</th>\n",
       "      <th>user_activity_var_7</th>\n",
       "      <th>user_activity_var_8</th>\n",
       "      <th>user_activity_var_9</th>\n",
       "      <th>user_activity_var_10</th>\n",
       "      <th>user_activity_var_11</th>\n",
       "      <th>user_activity_var_12</th>\n",
       "    </tr>\n",
       "  </thead>\n",
       "  <tbody>\n",
       "    <tr>\n",
       "      <th>29901</th>\n",
       "      <td>3</td>\n",
       "      <td>5</td>\n",
       "      <td>2.0</td>\n",
       "      <td>0</td>\n",
       "      <td>0</td>\n",
       "      <td>0</td>\n",
       "      <td>0</td>\n",
       "      <td>0</td>\n",
       "      <td>0</td>\n",
       "      <td>0</td>\n",
       "      <td>0</td>\n",
       "      <td>1</td>\n",
       "      <td>0</td>\n",
       "    </tr>\n",
       "    <tr>\n",
       "      <th>34902</th>\n",
       "      <td>8</td>\n",
       "      <td>9</td>\n",
       "      <td>3.0</td>\n",
       "      <td>0</td>\n",
       "      <td>0</td>\n",
       "      <td>0</td>\n",
       "      <td>0</td>\n",
       "      <td>0</td>\n",
       "      <td>0</td>\n",
       "      <td>0</td>\n",
       "      <td>0</td>\n",
       "      <td>0</td>\n",
       "      <td>0</td>\n",
       "    </tr>\n",
       "    <tr>\n",
       "      <th>9136</th>\n",
       "      <td>8</td>\n",
       "      <td>5</td>\n",
       "      <td>0.0</td>\n",
       "      <td>2</td>\n",
       "      <td>0</td>\n",
       "      <td>0</td>\n",
       "      <td>0</td>\n",
       "      <td>0</td>\n",
       "      <td>0</td>\n",
       "      <td>0</td>\n",
       "      <td>0</td>\n",
       "      <td>0</td>\n",
       "      <td>0</td>\n",
       "    </tr>\n",
       "    <tr>\n",
       "      <th>30670</th>\n",
       "      <td>7</td>\n",
       "      <td>8</td>\n",
       "      <td>3.0</td>\n",
       "      <td>0</td>\n",
       "      <td>0</td>\n",
       "      <td>0</td>\n",
       "      <td>0</td>\n",
       "      <td>0</td>\n",
       "      <td>0</td>\n",
       "      <td>0</td>\n",
       "      <td>0</td>\n",
       "      <td>0</td>\n",
       "      <td>0</td>\n",
       "    </tr>\n",
       "    <tr>\n",
       "      <th>3555</th>\n",
       "      <td>7</td>\n",
       "      <td>5</td>\n",
       "      <td>0.0</td>\n",
       "      <td>0</td>\n",
       "      <td>0</td>\n",
       "      <td>0</td>\n",
       "      <td>0</td>\n",
       "      <td>1</td>\n",
       "      <td>0</td>\n",
       "      <td>0</td>\n",
       "      <td>0</td>\n",
       "      <td>1</td>\n",
       "      <td>0</td>\n",
       "    </tr>\n",
       "  </tbody>\n",
       "</table>\n",
       "</div>"
      ],
      "text/plain": [
       "       campaign_var_1  campaign_var_2  products_purchased  \\\n",
       "29901               3               5                 2.0   \n",
       "34902               8               9                 3.0   \n",
       "9136                8               5                 0.0   \n",
       "30670               7               8                 3.0   \n",
       "3555                7               5                 0.0   \n",
       "\n",
       "       user_activity_var_1  user_activity_var_2  user_activity_var_4  \\\n",
       "29901                    0                    0                    0   \n",
       "34902                    0                    0                    0   \n",
       "9136                     2                    0                    0   \n",
       "30670                    0                    0                    0   \n",
       "3555                     0                    0                    0   \n",
       "\n",
       "       user_activity_var_5  user_activity_var_7  user_activity_var_8  \\\n",
       "29901                    0                    0                    0   \n",
       "34902                    0                    0                    0   \n",
       "9136                     0                    0                    0   \n",
       "30670                    0                    0                    0   \n",
       "3555                     0                    1                    0   \n",
       "\n",
       "       user_activity_var_9  user_activity_var_10  user_activity_var_11  \\\n",
       "29901                    0                     0                     1   \n",
       "34902                    0                     0                     0   \n",
       "9136                     0                     0                     0   \n",
       "30670                    0                     0                     0   \n",
       "3555                     0                     0                     1   \n",
       "\n",
       "       user_activity_var_12  \n",
       "29901                     0  \n",
       "34902                     0  \n",
       "9136                      0  \n",
       "30670                     0  \n",
       "3555                      0  "
      ]
     },
     "execution_count": 39,
     "metadata": {},
     "output_type": "execute_result"
    }
   ],
   "source": [
    "# Head of X_train\n",
    "X_train.head()"
   ]
  },
  {
   "cell_type": "markdown",
   "id": "43ea6546",
   "metadata": {},
   "source": [
    "## 8. Model Building\n",
    "\n",
    "Finally, model building starts here.\n",
    "\n",
    "The goal of this section is to:\n",
    "- Build ML models\n",
    "- Evaluate the performance"
   ]
  },
  {
   "cell_type": "markdown",
   "id": "9cf0ffd9",
   "metadata": {},
   "source": [
    "__Classification Summary Function__"
   ]
  },
  {
   "cell_type": "code",
   "execution_count": 40,
   "id": "b2b2a8fb",
   "metadata": {},
   "outputs": [],
   "source": [
    "from sklearn.metrics import accuracy_score, confusion_matrix, classification_report, \\\n",
    "f1_score, roc_auc_score, roc_curve, precision_score, recall_score\n",
    "\n",
    "Evaluation_Results = pd.DataFrame(columns=['Model','Accuracy', 'Precision','Recall','F1_score','F1-Sub'])\n",
    "\n",
    "def Classification_Summary(Evaluation_Results,model_name,pred,target,i,f1_sub):\n",
    "    Accuracy =round(accuracy_score(target, pred),3)*100   \n",
    "    Precision=round(precision_score(target, pred, average='weighted'),3)*100 \n",
    "    Recall =round(recall_score(target, pred, average='weighted'),3)*100 \n",
    "    F1_score =round(f1_score(target, pred, average='weighted'),3)*100 \n",
    "    \n",
    "    Evaluation_Results.loc[i]=[model_name,Accuracy,Precision,Recall,F1_score,f1_sub] "
   ]
  },
  {
   "cell_type": "markdown",
   "id": "6d4f4d17",
   "metadata": {},
   "source": [
    "## 9. Start building the ML models\n",
    "\n",
    "Let's start with XGBoost first "
   ]
  },
  {
   "cell_type": "markdown",
   "id": "30374342",
   "metadata": {},
   "source": [
    "### Checking simple model"
   ]
  },
  {
   "cell_type": "code",
   "execution_count": 41,
   "id": "dbdf3f62",
   "metadata": {},
   "outputs": [],
   "source": [
    "from sklearn.tree import DecisionTreeClassifier\n",
    "from sklearn.svm import SVC\n",
    "from sklearn.neighbors import KNeighborsClassifier\n",
    "from sklearn.model_selection import KFold, cross_val_score, train_test_split, GridSearchCV, cross_validate\n",
    "from sklearn.metrics import make_scorer, accuracy_score, precision_score, recall_score, f1_score"
   ]
  },
  {
   "cell_type": "code",
   "execution_count": 42,
   "id": "4c47cbdf",
   "metadata": {},
   "outputs": [],
   "source": [
    "#traing simple model\n",
    "models = [\n",
    "    RandomForestClassifier(max_depth=5, random_state=0, n_estimators=100, n_jobs=-1),\n",
    "    LogisticRegression(random_state=0),\n",
    "    DecisionTreeClassifier(max_depth=5),\n",
    "    GradientBoostingClassifier(),\n",
    "    GaussianNB(),\n",
    "    SVC(),\n",
    "    XGBClassifier(eval_metric='mlogloss'),\n",
    "    KNeighborsClassifier()\n",
    "]"
   ]
  },
  {
   "cell_type": "code",
   "execution_count": 43,
   "id": "df68c092",
   "metadata": {},
   "outputs": [],
   "source": [
    "#cross validation\n",
    "CV=5\n",
    "cv_df = pd.DataFrame(index=range(CV*len(models)))\n",
    "\n",
    "scoring = {'accuracy' : make_scorer(accuracy_score), \n",
    "           'precision' : make_scorer(precision_score),\n",
    "           'recall' : make_scorer(recall_score), \n",
    "           'f1_score' : make_scorer(f1_score),\n",
    "           'prec_macro': 'precision_macro',\n",
    "           'rec_macro': make_scorer(recall_score, average='macro')}"
   ]
  },
  {
   "cell_type": "code",
   "execution_count": 44,
   "id": "9f243c40",
   "metadata": {},
   "outputs": [],
   "source": [
    "entries=[]\n",
    "for model in models:\n",
    "    model_name = model.__class__.__name__\n",
    "    accuracies = cross_validate(model,X,y, scoring=scoring,cv=CV)\n",
    "    for fold_idx, accuracy in enumerate(accuracies):\n",
    "        prec_macro = accuracies['test_prec_macro'].mean()\n",
    "        rec_macro = accuracies['test_rec_macro'].mean()\n",
    "        f1_macro = 2*(prec_macro*rec_macro)/(prec_macro+rec_macro)\n",
    "        entries.append((model_name,fold_idx,prec_macro,rec_macro,f1_macro))\n",
    "cv_df = pd.DataFrame(entries,columns=['model_name','fold_idx','prec_macro','rec_macro','f1_macro']) "
   ]
  },
  {
   "cell_type": "code",
   "execution_count": 45,
   "id": "e1aaffbe",
   "metadata": {},
   "outputs": [],
   "source": [
    "mean_macro = cv_df.groupby('model_name')['prec_macro','rec_macro','f1_macro'].mean()"
   ]
  },
  {
   "cell_type": "code",
   "execution_count": 46,
   "id": "73f6b419",
   "metadata": {},
   "outputs": [
    {
     "data": {
      "text/html": [
       "<div>\n",
       "<style scoped>\n",
       "    .dataframe tbody tr th:only-of-type {\n",
       "        vertical-align: middle;\n",
       "    }\n",
       "\n",
       "    .dataframe tbody tr th {\n",
       "        vertical-align: top;\n",
       "    }\n",
       "\n",
       "    .dataframe thead th {\n",
       "        text-align: right;\n",
       "    }\n",
       "</style>\n",
       "<table border=\"1\" class=\"dataframe\">\n",
       "  <thead>\n",
       "    <tr style=\"text-align: right;\">\n",
       "      <th></th>\n",
       "      <th>prec_macro</th>\n",
       "      <th>rec_macro</th>\n",
       "      <th>f1_macro</th>\n",
       "    </tr>\n",
       "    <tr>\n",
       "      <th>model_name</th>\n",
       "      <th></th>\n",
       "      <th></th>\n",
       "      <th></th>\n",
       "    </tr>\n",
       "  </thead>\n",
       "  <tbody>\n",
       "    <tr>\n",
       "      <th>DecisionTreeClassifier</th>\n",
       "      <td>0.961320</td>\n",
       "      <td>0.763663</td>\n",
       "      <td>0.851167</td>\n",
       "    </tr>\n",
       "    <tr>\n",
       "      <th>GaussianNB</th>\n",
       "      <td>0.952412</td>\n",
       "      <td>0.731036</td>\n",
       "      <td>0.827168</td>\n",
       "    </tr>\n",
       "    <tr>\n",
       "      <th>GradientBoostingClassifier</th>\n",
       "      <td>0.947926</td>\n",
       "      <td>0.776996</td>\n",
       "      <td>0.853992</td>\n",
       "    </tr>\n",
       "    <tr>\n",
       "      <th>KNeighborsClassifier</th>\n",
       "      <td>0.864083</td>\n",
       "      <td>0.575556</td>\n",
       "      <td>0.690907</td>\n",
       "    </tr>\n",
       "    <tr>\n",
       "      <th>LogisticRegression</th>\n",
       "      <td>0.950076</td>\n",
       "      <td>0.760308</td>\n",
       "      <td>0.844664</td>\n",
       "    </tr>\n",
       "    <tr>\n",
       "      <th>RandomForestClassifier</th>\n",
       "      <td>0.962150</td>\n",
       "      <td>0.762948</td>\n",
       "      <td>0.851048</td>\n",
       "    </tr>\n",
       "    <tr>\n",
       "      <th>SVC</th>\n",
       "      <td>0.953982</td>\n",
       "      <td>0.725826</td>\n",
       "      <td>0.824409</td>\n",
       "    </tr>\n",
       "    <tr>\n",
       "      <th>XGBClassifier</th>\n",
       "      <td>0.936633</td>\n",
       "      <td>0.777559</td>\n",
       "      <td>0.849715</td>\n",
       "    </tr>\n",
       "  </tbody>\n",
       "</table>\n",
       "</div>"
      ],
      "text/plain": [
       "                            prec_macro  rec_macro  f1_macro\n",
       "model_name                                                 \n",
       "DecisionTreeClassifier        0.961320   0.763663  0.851167\n",
       "GaussianNB                    0.952412   0.731036  0.827168\n",
       "GradientBoostingClassifier    0.947926   0.776996  0.853992\n",
       "KNeighborsClassifier          0.864083   0.575556  0.690907\n",
       "LogisticRegression            0.950076   0.760308  0.844664\n",
       "RandomForestClassifier        0.962150   0.762948  0.851048\n",
       "SVC                           0.953982   0.725826  0.824409\n",
       "XGBClassifier                 0.936633   0.777559  0.849715"
      ]
     },
     "execution_count": 46,
     "metadata": {},
     "output_type": "execute_result"
    }
   ],
   "source": [
    "mean_macro"
   ]
  },
  {
   "cell_type": "markdown",
   "id": "ecbdb58f",
   "metadata": {},
   "source": [
    "#### Graphical view of Performance of model"
   ]
  },
  {
   "cell_type": "code",
   "execution_count": 47,
   "id": "5c53ebce",
   "metadata": {},
   "outputs": [
    {
     "data": {
      "image/png": "[encoded data removed]",
      "text/plain": [
       "<Figure size 432x288 with 1 Axes>"
      ]
     },
     "metadata": {
      "needs_background": "light"
     },
     "output_type": "display_data"
    }
   ],
   "source": [
    "f1sub = mean_macro.sort_values('f1_macro')\n",
    "color = plt.cm.rainbow(np.linspace(0, 1, 9))\n",
    "plt.barh(f1sub.index, f1sub['f1_macro'], color=color)\n",
    "plt.xticks(rotation=90)\n",
    "plt.title('Performance of model')\n",
    "plt.show()"
   ]
  },
  {
   "cell_type": "markdown",
   "id": "4596a82c",
   "metadata": {},
   "source": [
    "<div class=\"alert alert-info\" style=\"padding:0px 10px; border-radius:5px;\"><h4 style='margin:10px 5px'> EDA Inferences:</h4></div>\n",
    "\n",
    "- By seeing above model performance GradientBoostingClassifier, DecisionTreeClassifier and XGBClassifier perform very well with respect to class1\n",
    "\n",
    "- Let's do experiment on this model\n"
   ]
  },
  {
   "cell_type": "markdown",
   "id": "07202245",
   "metadata": {},
   "source": [
    "Lets build the function to fit the model"
   ]
  },
  {
   "cell_type": "code",
   "execution_count": 48,
   "id": "e59669d8",
   "metadata": {},
   "outputs": [],
   "source": [
    "def modelfit(model, x_data,feature,y_target,x_test,y_test_,performCV=True, printFeatureImportance=True, cv_folds=5):\n",
    "    \n",
    "    #Fit the modelorithm on the data\n",
    "    model.fit(x_data[feature], y_target)\n",
    "        \n",
    "    #Predict training set:\n",
    "    x_data_predictions = model.predict(x_data[feature])\n",
    "    x_data_predprob = model.predict_proba(x_data[feature])[:,1]\n",
    "    \n",
    "    #Perform cross-validation:\n",
    "    if performCV:\n",
    "        cv_score = cross_val_score(model, x_data[feature], y_target, cv=cv_folds, scoring='roc_auc')\n",
    "    \n",
    "    #Print model report:\n",
    "    print (\"\\nModel Report - Training\")\n",
    "    print (\"Accuracy : %.4g\" % accuracy_score(y_target.values, x_data_predictions))\n",
    "    print (\"AUC Score (Train): %f\" % roc_auc_score(y_target, x_data_predprob))\n",
    "    \n",
    "    #Predict test set:\n",
    "    test_predictions = model.predict(x_test[feature])\n",
    "    test_predprob = model.predict_proba(x_test[feature])[:,1]\n",
    "    \n",
    "    #Print model report:\n",
    "    print (\"\\nModel Report Test set\")\n",
    "    print (\"Accuracy : %.4g\" % accuracy_score(y_test_.values, test_predictions))\n",
    "    print (\"AUC Score (Test Set): %f\" % roc_auc_score(y_test_,   test_predprob))\n",
    "    \n",
    "    #print classification report\n",
    "    print(\"\\nClassification Report : \\n\",classification_report(y_test_, test_predictions))\n",
    "    \n",
    "    if performCV:\n",
    "        print( \"\\nCV Score : Mean - %.7g | Std - %.7g | Min - %.7g | Max - %.7g\" % (np.mean(cv_score),np.std(cv_score),np.min(cv_score),np.max(cv_score)))\n",
    " \n",
    "    #Print Feature Importance:\n",
    "    if printFeatureImportance:\n",
    "        feat_imp = pd.Series(model.feature_importances_, feature).sort_values(ascending=False)\n",
    "        feat_imp.plot(kind='barh', title='Feature Importances')\n",
    "        plt.xlabel('Feature Importance Score')"
   ]
  },
  {
   "cell_type": "code",
   "execution_count": 49,
   "id": "d7f2a105",
   "metadata": {},
   "outputs": [],
   "source": [
    "col = [var for var in X_train.columns]"
   ]
  },
  {
   "cell_type": "markdown",
   "id": "6bfba17d",
   "metadata": {},
   "source": [
    "### Model 1. Gradient Boosting Classifier"
   ]
  },
  {
   "cell_type": "code",
   "execution_count": 50,
   "id": "38b5371b",
   "metadata": {},
   "outputs": [],
   "source": [
    "#Building model with hyperparameter tunning"
   ]
  },
  {
   "cell_type": "code",
   "execution_count": 51,
   "id": "66bf12b7",
   "metadata": {},
   "outputs": [
    {
     "name": "stdout",
     "output_type": "stream",
     "text": [
      "\n",
      "Model Report - Training\n",
      "Accuracy : 0.9601\n",
      "AUC Score (Train): 0.919069\n",
      "\n",
      "Model Report Test set\n",
      "Accuracy : 0.9586\n",
      "AUC Score (Test Set): 0.913467\n",
      "\n",
      "Classification Report : \n",
      "               precision    recall  f1-score   support\n",
      "\n",
      "           0       0.96      1.00      0.98      6623\n",
      "           1       0.96      0.52      0.67       592\n",
      "\n",
      "    accuracy                           0.96      7215\n",
      "   macro avg       0.96      0.76      0.83      7215\n",
      "weighted avg       0.96      0.96      0.95      7215\n",
      "\n",
      "\n",
      "CV Score : Mean - 0.9114842 | Std - 0.01077231 | Min - 0.8970891 | Max - 0.9260934\n"
     ]
    },
    {
     "data": {
      "image/png": "[encoded data removed]",
      "text/plain": [
       "<Figure size 432x288 with 1 Axes>"
      ]
     },
     "metadata": {
      "needs_background": "light"
     },
     "output_type": "display_data"
    }
   ],
   "source": [
    "param = {'min_samples_split':range(1000,2100,200), \n",
    "         'min_samples_leaf':range(30,60,10),\n",
    "         'learning_rate':[0.01,0.05]}\n",
    "\n",
    "gsearch = GridSearchCV(estimator = \n",
    "                       GradientBoostingClassifier(learning_rate=0.1, n_estimators=60,max_depth=9,\n",
    "                                                  max_features='sqrt', subsample=0.8, random_state=10), \n",
    "                        param_grid = param, scoring='roc_auc',n_jobs=4, cv=5)\n",
    "\n",
    "#fit model for best estimator\n",
    "gsearch.fit(X_train,y_train)\n",
    "\n",
    "#predit the model\n",
    "modelfit(gsearch.best_estimator_,X_train,col,y_train,X_test,y_test)"
   ]
  },
  {
   "cell_type": "code",
   "execution_count": 52,
   "id": "f66468cd",
   "metadata": {},
   "outputs": [],
   "source": [
    "# Let's predit in the submissin file\n",
    "sub_pred_gbc = gsearch.best_estimator_.predict(X_sub)\n",
    "\n",
    "#maping predicted column to submission file\n",
    "test_sub['pred_gbc'] = sub_pred_gbc\n",
    "\n",
    "#genrating csv file to upload\n",
    "test_sub[['id','pred_gbc']].to_csv('Submission_gbc.csv', index=False,header=['id','buy'])"
   ]
  },
  {
   "cell_type": "code",
   "execution_count": 53,
   "id": "3d6d121a",
   "metadata": {},
   "outputs": [],
   "source": [
    "# F1 score after submission- 0.73652694"
   ]
  },
  {
   "cell_type": "markdown",
   "id": "3a5f249a",
   "metadata": {},
   "source": [
    "### Model 2. XGBoost Classifier"
   ]
  },
  {
   "cell_type": "code",
   "execution_count": 54,
   "id": "9fa18620",
   "metadata": {},
   "outputs": [
    {
     "name": "stdout",
     "output_type": "stream",
     "text": [
      "\n",
      "Model Report - Training\n",
      "Accuracy : 0.9614\n",
      "AUC Score (Train): 0.935418\n",
      "\n",
      "Model Report Test set\n",
      "Accuracy : 0.9591\n",
      "AUC Score (Test Set): 0.909084\n",
      "\n",
      "Classification Report : \n",
      "               precision    recall  f1-score   support\n",
      "\n",
      "           0       0.96      1.00      0.98      6623\n",
      "           1       0.92      0.55      0.69       592\n",
      "\n",
      "    accuracy                           0.96      7215\n",
      "   macro avg       0.94      0.77      0.83      7215\n",
      "weighted avg       0.96      0.96      0.95      7215\n",
      "\n",
      "\n",
      "CV Score : Mean - 0.912952 | Std - 0.009258631 | Min - 0.9029593 | Max - 0.9248951\n"
     ]
    },
    {
     "data": {
      "image/png": "[encoded data removed]",
      "text/plain": [
       "<Figure size 432x288 with 1 Axes>"
      ]
     },
     "metadata": {
      "needs_background": "light"
     },
     "output_type": "display_data"
    }
   ],
   "source": [
    "parameter = {'max_depth':[4,5,6],\n",
    "            'min_child_weight':[4,5,6]\n",
    "            }\n",
    "\n",
    "xgb_grid = GridSearchCV(estimator = XGBClassifier(eval_metric='mlogloss'), \n",
    "                             param_grid = parameter, \n",
    "                             scoring='accuracy', \n",
    "                             n_jobs=-1, \n",
    "                             cv=2\n",
    "                            )\n",
    "\n",
    "xgb_grid.fit(X_train, y_train)\n",
    "\n",
    "# fit and predit the model\n",
    "modelfit(xgb_grid.best_estimator_,X_train,col,y_train,X_test,y_test)"
   ]
  },
  {
   "cell_type": "code",
   "execution_count": 55,
   "id": "84a6b864",
   "metadata": {},
   "outputs": [],
   "source": [
    "# Let's predit in the submissin file\n",
    "sub_pred_xgb = xgb_grid.predict(X_sub)\n",
    "\n",
    "#maping predicted column to submission file\n",
    "test_sub['pred_xgb'] = sub_pred_xgb\n",
    "\n",
    "#genrating csv file to upload\n",
    "test_sub[['id','pred_xgb']].to_csv('Submission_xgb.csv', index=False,header=['id','buy'])"
   ]
  },
  {
   "cell_type": "code",
   "execution_count": 56,
   "id": "46fdf2b6",
   "metadata": {},
   "outputs": [],
   "source": [
    "# F1 score after submission 0.7343283"
   ]
  },
  {
   "cell_type": "markdown",
   "id": "e6dbade8",
   "metadata": {},
   "source": [
    "### Model 3. DecisionTreeClassifier"
   ]
  },
  {
   "cell_type": "code",
   "execution_count": 57,
   "id": "41fc768a",
   "metadata": {},
   "outputs": [
    {
     "name": "stdout",
     "output_type": "stream",
     "text": [
      "\n",
      "Model Report - Training\n",
      "Accuracy : 0.9601\n",
      "AUC Score (Train): 0.852572\n",
      "\n",
      "Model Report Test set\n",
      "Accuracy : 0.9594\n",
      "AUC Score (Test Set): 0.840071\n",
      "\n",
      "Classification Report : \n",
      "               precision    recall  f1-score   support\n",
      "\n",
      "           0       0.96      1.00      0.98      6623\n",
      "           1       0.96      0.53      0.68       592\n",
      "\n",
      "    accuracy                           0.96      7215\n",
      "   macro avg       0.96      0.76      0.83      7215\n",
      "weighted avg       0.96      0.96      0.95      7215\n",
      "\n",
      "\n",
      "CV Score : Mean - 0.8523485 | Std - 0.01508446 | Min - 0.8341938 | Max - 0.8747203\n",
      "Wall time: 222 ms\n"
     ]
    },
    {
     "data": {
      "image/png": "[encoded data removed]",
      "text/plain": [
       "<Figure size 432x288 with 1 Axes>"
      ]
     },
     "metadata": {
      "needs_background": "light"
     },
     "output_type": "display_data"
    }
   ],
   "source": [
    "%%time\n",
    "# Define the model\n",
    "dt_clf = DecisionTreeClassifier(random_state=24,max_depth=5)\n",
    "\n",
    "# Train the model\n",
    "modelfit(dt_clf,X_train,col,y_train,X_test,y_test)"
   ]
  },
  {
   "cell_type": "code",
   "execution_count": 58,
   "id": "8ee83cab",
   "metadata": {},
   "outputs": [],
   "source": [
    "# Let's predit in the submissin file\n",
    "sub_pred_dt = dt_clf.predict(X_sub)\n",
    "\n",
    "#maping predicted column to submission file\n",
    "test_sub['pred_dt'] = sub_pred_dt\n",
    "\n",
    "#genrating csv file to upload\n",
    "test_sub[['id','pred_dt']].to_csv('Submission_dt.csv', index=False,header=['id','buy'])"
   ]
  },
  {
   "cell_type": "code",
   "execution_count": 59,
   "id": "bad3dae3",
   "metadata": {},
   "outputs": [],
   "source": [
    "# F1 score after submission 0.72140762"
   ]
  },
  {
   "cell_type": "markdown",
   "id": "d5bb058e",
   "metadata": {},
   "source": [
    "## 10. Handling Class Imbalance"
   ]
  },
  {
   "cell_type": "markdown",
   "id": "334e746c",
   "metadata": {},
   "source": [
    "#### Model with down sample"
   ]
  },
  {
   "cell_type": "code",
   "execution_count": 60,
   "id": "c8a1f970",
   "metadata": {},
   "outputs": [
    {
     "name": "stdout",
     "output_type": "stream",
     "text": [
      "22075\n",
      "1973\n"
     ]
    }
   ],
   "source": [
    "#Let't try the data set with with down samping the larger class\n",
    "no_buy_index = df_train[df_train['buy'] == 0].index  \n",
    "no_buy = len(df_train[df_train['buy'] == 0])            \n",
    "print(no_buy)\n",
    "\n",
    "buy_index = df_train[df_train['buy'] == 1].index   \n",
    "buy = len(df_train[df_train['buy'] == 1])            \n",
    "print(buy)"
   ]
  },
  {
   "cell_type": "code",
   "execution_count": 61,
   "id": "d67cf47b",
   "metadata": {},
   "outputs": [
    {
     "data": {
      "text/html": [
       "<div>\n",
       "<style scoped>\n",
       "    .dataframe tbody tr th:only-of-type {\n",
       "        vertical-align: middle;\n",
       "    }\n",
       "\n",
       "    .dataframe tbody tr th {\n",
       "        vertical-align: top;\n",
       "    }\n",
       "\n",
       "    .dataframe thead th {\n",
       "        text-align: right;\n",
       "    }\n",
       "</style>\n",
       "<table border=\"1\" class=\"dataframe\">\n",
       "  <thead>\n",
       "    <tr style=\"text-align: right;\">\n",
       "      <th></th>\n",
       "      <th>campaign_var_1</th>\n",
       "      <th>campaign_var_2</th>\n",
       "      <th>products_purchased</th>\n",
       "      <th>user_activity_var_1</th>\n",
       "      <th>user_activity_var_2</th>\n",
       "      <th>user_activity_var_4</th>\n",
       "      <th>user_activity_var_5</th>\n",
       "      <th>user_activity_var_7</th>\n",
       "      <th>user_activity_var_8</th>\n",
       "      <th>user_activity_var_9</th>\n",
       "      <th>user_activity_var_10</th>\n",
       "      <th>user_activity_var_11</th>\n",
       "      <th>user_activity_var_12</th>\n",
       "    </tr>\n",
       "    <tr>\n",
       "      <th>buy</th>\n",
       "      <th></th>\n",
       "      <th></th>\n",
       "      <th></th>\n",
       "      <th></th>\n",
       "      <th></th>\n",
       "      <th></th>\n",
       "      <th></th>\n",
       "      <th></th>\n",
       "      <th></th>\n",
       "      <th></th>\n",
       "      <th></th>\n",
       "      <th></th>\n",
       "      <th></th>\n",
       "    </tr>\n",
       "  </thead>\n",
       "  <tbody>\n",
       "    <tr>\n",
       "      <th>0</th>\n",
       "      <td>10075</td>\n",
       "      <td>10075</td>\n",
       "      <td>10075</td>\n",
       "      <td>10075</td>\n",
       "      <td>10075</td>\n",
       "      <td>10075</td>\n",
       "      <td>10075</td>\n",
       "      <td>10075</td>\n",
       "      <td>10075</td>\n",
       "      <td>10075</td>\n",
       "      <td>10075</td>\n",
       "      <td>10075</td>\n",
       "      <td>10075</td>\n",
       "    </tr>\n",
       "    <tr>\n",
       "      <th>1</th>\n",
       "      <td>1973</td>\n",
       "      <td>1973</td>\n",
       "      <td>1973</td>\n",
       "      <td>1973</td>\n",
       "      <td>1973</td>\n",
       "      <td>1973</td>\n",
       "      <td>1973</td>\n",
       "      <td>1973</td>\n",
       "      <td>1973</td>\n",
       "      <td>1973</td>\n",
       "      <td>1973</td>\n",
       "      <td>1973</td>\n",
       "      <td>1973</td>\n",
       "    </tr>\n",
       "  </tbody>\n",
       "</table>\n",
       "</div>"
      ],
      "text/plain": [
       "     campaign_var_1  campaign_var_2  products_purchased  user_activity_var_1  \\\n",
       "buy                                                                            \n",
       "0             10075           10075               10075                10075   \n",
       "1              1973            1973                1973                 1973   \n",
       "\n",
       "     user_activity_var_2  user_activity_var_4  user_activity_var_5  \\\n",
       "buy                                                                  \n",
       "0                  10075                10075                10075   \n",
       "1                   1973                 1973                 1973   \n",
       "\n",
       "     user_activity_var_7  user_activity_var_8  user_activity_var_9  \\\n",
       "buy                                                                  \n",
       "0                  10075                10075                10075   \n",
       "1                   1973                 1973                 1973   \n",
       "\n",
       "     user_activity_var_10  user_activity_var_11  user_activity_var_12  \n",
       "buy                                                                    \n",
       "0                   10075                 10075                 10075  \n",
       "1                    1973                  1973                  1973  "
      ]
     },
     "execution_count": 61,
     "metadata": {},
     "output_type": "execute_result"
    }
   ],
   "source": [
    "random_indices = np.random.choice(no_buy_index, no_buy - 12000 , replace=False)    #Randomly pick up no_buy\n",
    "down_sample_indices = np.concatenate([buy_index,random_indices])  # combine\n",
    "down_sample = df_train.loc[down_sample_indices]  # Extract all those records to create new dataset\n",
    "down_sample.shape\n",
    "down_sample.groupby([\"buy\"]).count()  # look at the class distribution after downsample"
   ]
  },
  {
   "cell_type": "markdown",
   "id": "7511aa94",
   "metadata": {},
   "source": [
    "Looks like class is balanced now"
   ]
  },
  {
   "cell_type": "code",
   "execution_count": 62,
   "id": "3374a530",
   "metadata": {},
   "outputs": [],
   "source": [
    "# Split the y variable series and x variables dataset\n",
    "X_bal = df_train.drop(['buy'],axis=1)\n",
    "y_bal = df_train['buy']"
   ]
  },
  {
   "cell_type": "markdown",
   "id": "63f14e4c",
   "metadata": {},
   "source": [
    "### Model 4:  Gradient Boosting Classifier On Down Sample Mejority Class"
   ]
  },
  {
   "cell_type": "code",
   "execution_count": 63,
   "id": "4804ae53",
   "metadata": {},
   "outputs": [
    {
     "name": "stdout",
     "output_type": "stream",
     "text": [
      "\n",
      "Model Report - Training\n",
      "Accuracy : 0.9598\n",
      "AUC Score (Train): 0.917478\n",
      "\n",
      "Model Report Test set\n",
      "Accuracy : 0.9598\n",
      "AUC Score (Test Set): 0.917478\n",
      "\n",
      "Classification Report : \n",
      "               precision    recall  f1-score   support\n",
      "\n",
      "           0       0.96      1.00      0.98     22075\n",
      "           1       0.97      0.53      0.68      1973\n",
      "\n",
      "    accuracy                           0.96     24048\n",
      "   macro avg       0.96      0.76      0.83     24048\n",
      "weighted avg       0.96      0.96      0.95     24048\n",
      "\n",
      "\n",
      "CV Score : Mean - 0.9099826 | Std - 0.01797516 | Min - 0.8783749 | Max - 0.9313729\n"
     ]
    },
    {
     "data": {
      "image/png": "[encoded data removed]",
      "text/plain": [
       "<Figure size 432x288 with 1 Axes>"
      ]
     },
     "metadata": {
      "needs_background": "light"
     },
     "output_type": "display_data"
    }
   ],
   "source": [
    "param = {'min_samples_split':range(1000,2100,200), \n",
    "         'min_samples_leaf':range(30,60,10),\n",
    "         'learning_rate':[0.01,0.05]}\n",
    "\n",
    "gsearch_ds = GridSearchCV(estimator = \n",
    "                       GradientBoostingClassifier(learning_rate=0.1, n_estimators=60,max_depth=9,\n",
    "                                                  max_features='sqrt', subsample=0.8, random_state=10), \n",
    "                        param_grid = param, scoring='roc_auc',n_jobs=4, cv=5)\n",
    "\n",
    "#fit model for best estimator\n",
    "gsearch_ds.fit(X_bal,y_bal)\n",
    "\n",
    "#predit the model\n",
    "modelfit(gsearch_ds.best_estimator_,X_bal,col,y_bal,X_bal,y_bal)"
   ]
  },
  {
   "cell_type": "code",
   "execution_count": 64,
   "id": "e8b8f557",
   "metadata": {},
   "outputs": [],
   "source": [
    "# Let's predit in the submissin file\n",
    "sub_pred_gbc_ds = gsearch_ds.best_estimator_.predict(X_sub)\n",
    "\n",
    "#maping predicted column to submission file\n",
    "test_sub['pred_gbc_ds'] = sub_pred_gbc_ds\n",
    "\n",
    "#genrating csv file to upload\n",
    "test_sub[['id','pred_gbc_ds']].to_csv('Submission_gbc_ds.csv', index=False,header=['id','buy'])"
   ]
  },
  {
   "cell_type": "code",
   "execution_count": 65,
   "id": "ca065a1a",
   "metadata": {},
   "outputs": [],
   "source": [
    "#0.7305389"
   ]
  },
  {
   "cell_type": "markdown",
   "id": "4ced45c4",
   "metadata": {},
   "source": [
    "### Model 5: XGradient Boosting Classifier On Down Sample Mejority Class"
   ]
  },
  {
   "cell_type": "code",
   "execution_count": 66,
   "id": "089c4337",
   "metadata": {},
   "outputs": [
    {
     "name": "stdout",
     "output_type": "stream",
     "text": [
      "\n",
      "Model Report - Training\n",
      "Accuracy : 0.961\n",
      "AUC Score (Train): 0.930406\n",
      "\n",
      "Model Report Test set\n",
      "Accuracy : 0.961\n",
      "AUC Score (Test Set): 0.930406\n",
      "\n",
      "Classification Report : \n",
      "               precision    recall  f1-score   support\n",
      "\n",
      "           0       0.96      1.00      0.98     22075\n",
      "           1       0.93      0.57      0.71      1973\n",
      "\n",
      "    accuracy                           0.96     24048\n",
      "   macro avg       0.95      0.78      0.84     24048\n",
      "weighted avg       0.96      0.96      0.96     24048\n",
      "\n",
      "\n",
      "CV Score : Mean - 0.9096634 | Std - 0.01662502 | Min - 0.8821495 | Max - 0.9314816\n"
     ]
    },
    {
     "data": {
      "image/png": "[encoded data removed]",
      "text/plain": [
       "<Figure size 432x288 with 1 Axes>"
      ]
     },
     "metadata": {
      "needs_background": "light"
     },
     "output_type": "display_data"
    }
   ],
   "source": [
    "parameter = {'max_depth':[4,5,6],\n",
    "            'min_child_weight':[4,5,6]\n",
    "            }\n",
    "\n",
    "xgb_grid_ds = GridSearchCV(estimator = XGBClassifier(eval_metric='mlogloss'), \n",
    "                             param_grid = parameter, \n",
    "                             scoring='accuracy', \n",
    "                             n_jobs=-1, \n",
    "                             cv=2\n",
    "                            )\n",
    "\n",
    "xgb_grid_ds.fit(X_bal, y_bal)\n",
    "\n",
    "# fit and predit the model\n",
    "modelfit(xgb_grid_ds.best_estimator_,X_bal,col,y_bal,X_bal,y_bal)"
   ]
  },
  {
   "cell_type": "code",
   "execution_count": 67,
   "id": "a67e15b1",
   "metadata": {},
   "outputs": [],
   "source": [
    "# Let's predit in the submissin file\n",
    "sub_pred_xgb_ds = xgb_grid_ds.predict(X_sub)\n",
    "\n",
    "#maping predicted column to submission file\n",
    "test_sub['pred_xgb_ds'] = sub_pred_xgb_ds\n",
    "\n",
    "#genrating csv file to upload\n",
    "test_sub[['id','pred_xgb_ds']].to_csv('Submission_xgb_ds.csv', index=False,header=['id','buy'])"
   ]
  },
  {
   "cell_type": "markdown",
   "id": "a5de6342",
   "metadata": {},
   "source": [
    "## 11. Feature Importance & SHAP Values"
   ]
  },
  {
   "cell_type": "markdown",
   "id": "ba19dabc",
   "metadata": {},
   "source": [
    "From the above model and by seeing feature importance matrix we found that some feature has no role for prediction\n",
    "\n",
    "* Lets do some experiment in feature selection"
   ]
  },
  {
   "cell_type": "code",
   "execution_count": 68,
   "id": "d6fc67de",
   "metadata": {},
   "outputs": [
    {
     "data": {
      "image/png": "[encoded data removed]",
      "text/plain": [
       "<Figure size 576x468 with 3 Axes>"
      ]
     },
     "metadata": {},
     "output_type": "display_data"
    }
   ],
   "source": [
    "# compute SHAP values\n",
    "import shap\n",
    "explainer = shap.Explainer(xgb_grid.best_estimator_, X_train) # , link=shap.links.logit)\n",
    "shap_values_waterfall = explainer(X_train[:100])\n",
    "\n",
    "# visualize the first prediction's explanation\n",
    "shap.plots.waterfall(shap_values_waterfall[0])"
   ]
  },
  {
   "cell_type": "markdown",
   "id": "d334517d",
   "metadata": {},
   "source": [
    "## 12. PCA for Dimensionality Reduction"
   ]
  },
  {
   "cell_type": "markdown",
   "id": "987fea1e",
   "metadata": {},
   "source": [
    "Before doing this Standardize the Data"
   ]
  },
  {
   "cell_type": "code",
   "execution_count": 69,
   "id": "31fdcbe2",
   "metadata": {},
   "outputs": [],
   "source": [
    "#Standardize the Data\n",
    "from sklearn.preprocessing import StandardScaler\n",
    "std_scale = StandardScaler().fit(X_train)\n",
    "X_train_scaled = std_scale.transform(X_train)\n",
    "X_test_scales = std_scale.transform(X_test)\n",
    "X_sub_scaled = std_scale.transform(X_sub)"
   ]
  },
  {
   "cell_type": "code",
   "execution_count": 70,
   "id": "b8b19a90",
   "metadata": {},
   "outputs": [
    {
     "data": {
      "text/plain": [
       "(16833, 13)"
      ]
     },
     "execution_count": 70,
     "metadata": {},
     "output_type": "execute_result"
    }
   ],
   "source": [
    "X_train_scaled.shape"
   ]
  },
  {
   "cell_type": "code",
   "execution_count": 71,
   "id": "03e9ea56",
   "metadata": {},
   "outputs": [
    {
     "data": {
      "text/plain": [
       "PCA(n_components=13)"
      ]
     },
     "execution_count": 71,
     "metadata": {},
     "output_type": "execute_result"
    }
   ],
   "source": [
    "#Apply PCA on the data with max components\n",
    "\n",
    "from sklearn.decomposition import PCA\n",
    "pca = PCA(n_components=13)\n",
    "pca.fit(X_train_scaled)"
   ]
  },
  {
   "cell_type": "code",
   "execution_count": 72,
   "id": "65d237ee",
   "metadata": {},
   "outputs": [
    {
     "name": "stdout",
     "output_type": "stream",
     "text": [
      "[1.65352902 1.46363761 1.09497463 1.04318248 1.01607468 0.99343616\n",
      " 0.9830932  0.94790611 0.92669995 0.87019512 0.80854458 0.76328621\n",
      " 0.43621259]\n"
     ]
    }
   ],
   "source": [
    "print(pca.explained_variance_)"
   ]
  },
  {
   "cell_type": "code",
   "execution_count": 73,
   "id": "91455529",
   "metadata": {},
   "outputs": [
    {
     "data": {
      "image/png": "[encoded data removed]",
      "text/plain": [
       "<Figure size 432x288 with 1 Axes>"
      ]
     },
     "metadata": {
      "needs_background": "light"
     },
     "output_type": "display_data"
    }
   ],
   "source": [
    "plt.bar(list(range(1,14)),pca.explained_variance_ratio_,alpha=0.5, align='center')\n",
    "plt.ylabel('Variation explained')\n",
    "plt.xlabel('Eigen Value')\n",
    "plt.show()"
   ]
  },
  {
   "cell_type": "code",
   "execution_count": 74,
   "id": "10c58779",
   "metadata": {},
   "outputs": [
    {
     "data": {
      "image/png": "[encoded data removed]",
      "text/plain": [
       "<Figure size 432x288 with 1 Axes>"
      ]
     },
     "metadata": {
      "needs_background": "light"
     },
     "output_type": "display_data"
    }
   ],
   "source": [
    "plt.step(list(range(1,14)),np.cumsum(pca.explained_variance_ratio_), where='mid')\n",
    "plt.ylabel('Cum of variation explained')\n",
    "plt.xlabel('Eigen Value')\n",
    "plt.axhline(y=0.96,color='red',linestyle=\"--\")\n",
    "plt.axvline(x=12,color='red',linestyle=\"--\")\n",
    "plt.show()"
   ]
  },
  {
   "cell_type": "markdown",
   "id": "2cd89b0f",
   "metadata": {},
   "source": [
    "PCA with 12 component is covering more than 96% information"
   ]
  },
  {
   "cell_type": "code",
   "execution_count": 75,
   "id": "5a3895fc",
   "metadata": {},
   "outputs": [
    {
     "data": {
      "text/plain": [
       "PCA(n_components=12)"
      ]
     },
     "execution_count": 75,
     "metadata": {},
     "output_type": "execute_result"
    }
   ],
   "source": [
    "pca12 = PCA(n_components=12)\n",
    "pca12.fit(X_train_scaled)"
   ]
  },
  {
   "cell_type": "code",
   "execution_count": 76,
   "id": "8a405a41",
   "metadata": {},
   "outputs": [],
   "source": [
    "#transfor the train, test and submission data set to new dimension\n",
    "X_train_pca = pca.transform(X_train)\n",
    "X_test_pca = pca.transform(X_test)\n",
    "X_sub_pca = pca.transform(X_sub)"
   ]
  },
  {
   "cell_type": "code",
   "execution_count": 77,
   "id": "015cda6b",
   "metadata": {},
   "outputs": [],
   "source": [
    "#Selecting XGB classifier to rebuild the model with new dimension\n",
    "parameter = {'max_depth':[4,5,6],\n",
    "            'min_child_weight':[4,5,6]\n",
    "            }\n",
    "\n",
    "xgb_grid_pca = GridSearchCV(estimator = XGBClassifier(eval_metric='mlogloss'), \n",
    "                             param_grid = parameter, \n",
    "                             scoring='accuracy', \n",
    "                             n_jobs=-1, \n",
    "                             cv=2\n",
    "                            )\n",
    "\n",
    "xgb_pca = xgb_grid_pca.fit(X_train_pca, y_train).best_estimator_\n",
    "\n",
    "# fit and predit the model\n",
    "pred_pca = xgb_pca.predict(X_test_pca)\n",
    "\n"
   ]
  },
  {
   "cell_type": "code",
   "execution_count": 78,
   "id": "ddaa9ef6",
   "metadata": {},
   "outputs": [
    {
     "name": "stdout",
     "output_type": "stream",
     "text": [
      "\n",
      "Model Report Test set\n",
      "Accuracy : 0.9548\n",
      "AUC Score (Test Set): 0.890845\n",
      "\n",
      "Classification Report : \n",
      "               precision    recall  f1-score   support\n",
      "\n",
      "           0       0.96      0.99      0.98      6623\n",
      "           1       0.87      0.53      0.66       592\n",
      "\n",
      "    accuracy                           0.95      7215\n",
      "   macro avg       0.91      0.76      0.82      7215\n",
      "weighted avg       0.95      0.95      0.95      7215\n",
      "\n"
     ]
    }
   ],
   "source": [
    "predprob_pca = xgb_pca.predict_proba(X_test_pca)[:,1]\n",
    "\n",
    "#Print model report:\n",
    "print (\"\\nModel Report Test set\")\n",
    "print (\"Accuracy : %.4g\" % accuracy_score(y_test.values, pred_pca))\n",
    "print (\"AUC Score (Test Set): %f\" % roc_auc_score(y_test,   predprob_pca))\n",
    "\n",
    "#print classification report\n",
    "print(\"\\nClassification Report : \\n\",classification_report(y_test, pred_pca))"
   ]
  },
  {
   "cell_type": "code",
   "execution_count": 79,
   "id": "f266db5c",
   "metadata": {},
   "outputs": [],
   "source": [
    "# Let's predit in the submissin file\n",
    "sub_pred_xgb_pca = xgb_pca.predict(X_sub_pca)\n",
    "\n",
    "#maping predicted column to submission file\n",
    "test_sub['pred_xgb_pca'] = sub_pred_xgb_pca\n",
    "\n",
    "#genrating csv file to upload\n",
    "test_sub[['id','pred_xgb_pca']].to_csv('Submission_xgb_pca.csv', index=False,header=['id','buy'])"
   ]
  },
  {
   "cell_type": "markdown",
   "id": "ea3a4f87",
   "metadata": {},
   "source": [
    "<div class=\"alert alert-info\" style=\"padding:0px 10px; border-radius:5px;\"><h4 style='margin:10px 5px'> Summary:</h4></div>\n",
    "\n",
    "After doing all the experiment and submission of file below results get\n"
   ]
  },
  {
   "cell_type": "code",
   "execution_count": null,
   "id": "e78f54f4",
   "metadata": {},
   "outputs": [],
   "source": []
  }
 ],
 "metadata": {
  "kernelspec": {
   "display_name": "Python 3",
   "language": "python",
   "name": "python3"
  },
  "language_info": {
   "codemirror_mode": {
    "name": "ipython",
    "version": 3
   },
   "file_extension": ".py",
   "mimetype": "text/x-python",
   "name": "python",
   "nbconvert_exporter": "python",
   "pygments_lexer": "ipython3",
   "version": "3.8.8"
  }
 },
 "nbformat": 4,
 "nbformat_minor": 5
}
